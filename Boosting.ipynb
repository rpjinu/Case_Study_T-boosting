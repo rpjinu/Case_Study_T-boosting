{
 "cells": [
  {
   "cell_type": "markdown",
   "id": "677defc6-0be0-4dbb-8337-de98270bf9b6",
   "metadata": {},
   "source": [
    "# A case study on Boosting\n",
    "\n",
    "Vehicle insurance fraud is done a lot across the world. People conspire to to make false or exaggerated claims involving property damage or stage personal injuries. Some common examples include staged accidents where fraudsters deliberately “arrange” for accidents to occur; the use of phantom passengers where people who were not even at the scene of the accident claim to have suffered grievous injury, and make false personal injury claims where personal injuries are grossly exaggerated.\n",
    "\n",
    "You are the in house data scientist of the Boosting insurance company and are tasked to analyse this data and then create a model to predict the false claims."
   ]
  },
  {
   "cell_type": "markdown",
   "id": "b2551117-f4a0-44e0-a884-f03569eb88c5",
   "metadata": {},
   "source": [
    "## Data Dictionary\n",
    "\n",
    "**'Month’** : Month when the claim was made.\n",
    "\n",
    "**'WeekOfMonth'** : Week when the claim was made.\n",
    "\n",
    "**'DayOfWeek'** : Day when the claim was made.\n",
    "\n",
    "**'Make'**: Make of the car\n",
    "\n",
    "**'AccidentArea'**, :  Area of the accident\n",
    "\n",
    "**‘DayOfWeekClaimed'** :  Day of the week when claim was made\n",
    "\n",
    "**'MonthClaimed'** : Month when claim was made\n",
    "\n",
    "**'WeekOfMonthClaimed'** : In which week of the month, claim was made\n",
    "\n",
    "**'Sex'** : Sex of the claimer \n",
    "\n",
    "**'MaritalStatus'**: Marital status of the claimer \n",
    "\n",
    "**'Age'** : age of the claimer\n",
    "\n",
    "**'Fault'** :  Fault for which claim was made\n",
    "\n",
    "**'PolicyType'** : Type of policy they hold  \n",
    "\n",
    "**'VehicleCategory'** : Category of the vehicle\n",
    "\n",
    "**'VehiclePrice'** : price of the vehicle\n",
    "\n",
    "**'FraudFound_P'** : Fraud was found or not\n",
    "\n",
    "**'PolicyNumber'** : Policy number of the claimer\n",
    "\n",
    "**'RepNumber'** : Representative number\n",
    "\n",
    "**Deductible'** : Deductible is the amount that a policy holder has to pay before the insurance company starts paying up.\n",
    "\n",
    "**'DriverRating'** : Rating of the driver\n",
    "\n",
    "**'Days_Policy_Accident'** :   Days since the accident\n",
    "\n",
    "**'Days_Policy_Claim'** : days since the claim\n",
    "\n",
    "**'PastNumberOfClaims'**:  Number of claims made in the past.\n",
    "\n",
    "**'AgeOfVehicle'** :  Age of the vehicle\n",
    "\n",
    "**'AgeOfPolicyHolder'** : Age of the policy holder\n",
    "\n",
    "**'PoliceReportFiled'**:  Was police report filed or not\n",
    "\n",
    "**'WitnessPresent'**:  Was a witness present there or not \n",
    "\n",
    "**'AgentType'** : type of the agent\n",
    "\n",
    "**'NumberOfSuppliments'** : Number of supplements provided\n",
    "\n",
    "**'AddressChange_Claim'** : Was address changed claim was made\n",
    "\n",
    "**'NumberOfCars'** : Number of cars the claimer has \n",
    "\n",
    "**'Year'**:  year of the policy\n",
    "\n",
    "**'BasePolicy'** : name of base policy\n"
   ]
  },
  {
   "cell_type": "markdown",
   "id": "2fb143e5",
   "metadata": {},
   "source": [
    "<h1><b>Table of Contents </b><span class=\"tocSkip\"></span></h1>\n",
    "<div class=\"toc\"><ul class=\"toc-item\"><li><span><a href=\"#A-case-study-on-Boosting\" data-toc-modified-id=\"A-case-study-on-Boosting-1\"><span class=\"toc-item-num\"><b>1&nbsp;&nbsp;</span> <b>A case study on Boosting</b></a></span></li><li><span><a href=\"#Exploratory-Data-Analysis\" data-toc-modified-id=\"Exploratory-Data-Analysis-2\"><span class=\"toc-item-num\"><b>2&nbsp;&nbsp;</span><b>Exploratory Data Analysis</a></span><ul class=\"toc-item\"><li><ul class=\"toc-item\"><li><span><a href=\"#Analysing-Categorical-Columns\" data-toc-modified-id=\"Analysing-Categorical-Columns-2.0.1\"><span class=\"toc-item-num\"><b>2.0.1&nbsp;&nbsp;</span><b>Analysing Categorical Columns</a></span></li><li><span><a href=\"#Analysing-Frauds\" data-toc-modified-id=\"Analysing-Frauds-2.0.2\"><span class=\"toc-item-num\"><b>2.0.2&nbsp;&nbsp;</span><b>Analysing Frauds</a></span></li></ul></li><li><span><a href=\"#Feature-Engineering\" data-toc-modified-id=\"Feature-Engineering-2.1\"><span class=\"toc-item-num\"><b>2.1&nbsp;&nbsp;</span><b>Feature Engineering</a></span><ul class=\"toc-item\"><li><span><a href=\"#Encoding-binary-categorical-features\" data-toc-modified-id=\"Encoding-binary-categorical-features-2.1.1\"><span class=\"toc-item-num\"><b>2.1.1&nbsp;&nbsp;</span><b>Encoding binary categorical features</a></span></li><li><span><a href=\"#Ordinal-Encoder\" data-toc-modified-id=\"Ordinal-Encoder-2.1.2\"><span class=\"toc-item-num\"><b>2.1.2&nbsp;&nbsp;</span><b>Ordinal Encoder</a></span></li><li><span><a href=\"#Custom-Encoding\" data-toc-modified-id=\"Custom-Encoding-2.1.3\"><span class=\"toc-item-num\"><b>2.1.3&nbsp;&nbsp;</span><b>Custom Encoding</a></span></li></ul></li></ul></li><li><span><a href=\"#Boosting\" data-toc-modified-id=\"Boosting-3\"><span class=\"toc-item-num\"><b>3&nbsp;&nbsp;</span><b>Boosting</a></span><ul class=\"toc-item\"><li><ul class=\"toc-item\"><li><span><a href=\"#Bias-Variance-tradeoff\" data-toc-modified-id=\"Bias-Variance-tradeoff-3.0.1\"><span class=\"toc-item-num\"><b>3.0.1&nbsp;&nbsp;</span><b>Bias Variance tradeoff</a></span><ul class=\"toc-item\"><li><span><a href=\"#Bias\" data-toc-modified-id=\"Bias-3.0.1.1\"><span class=\"toc-item-num\"><b>3.0.1.1&nbsp;&nbsp;</span><b>Bias</a></span></li><li><span><a href=\"#Variance\" data-toc-modified-id=\"Variance-3.0.1.2\"><span class=\"toc-item-num\"><b>3.0.1.2&nbsp;&nbsp;</span><b>Variance</a></span></li></ul></li><li><span><a href=\"#Boosting-Explained\" data-toc-modified-id=\"Boosting-Explained-3.0.2\"><span class=\"toc-item-num\"><b>3.0.2&nbsp;&nbsp;</span><b>Boosting Explained</a></span></li></ul></li></ul></li><li><span><a href=\"#Ada-Boost\" data-toc-modified-id=\"Ada-Boost-4\"><span class=\"toc-item-num\">4&nbsp;&nbsp;</span><b>Ada Boost</a></span><ul class=\"toc-item\"><li><span><a href=\"#Decision-Stumps\" data-toc-modified-id=\"Decision-Stumps-4.1\"><span class=\"toc-item-num\"><b>4.1&nbsp;&nbsp;</span><b>Decision Stumps</a></span></li><li><span><a href=\"#Adaboost-in-detail\" data-toc-modified-id=\"Adaboost-in-detail-4.2\"><span class=\"toc-item-num\"><b>4.2&nbsp;&nbsp;</span><b>Adaboost in detail</a></span><ul class=\"toc-item\"><li><span><a href=\"#Implementing-AdaBoost-in-Python\" data-toc-modified-id=\"Implementing-AdaBoost-in-Python-4.2.1\"><span class=\"toc-item-num\"><b>4.2.1&nbsp;&nbsp;</span><b>Implementing AdaBoost in Python</a></span></li></ul></li></ul></li><li><span><a href=\"#Interpreting-Results-and-some-new-metrics\" data-toc-modified-id=\"Interpreting-Results-and-some-new-metrics-5\"><span class=\"toc-item-num\">5&nbsp;&nbsp;</span><b>Interpreting Results and some new metrics</a></span><ul class=\"toc-item\"><li><span><a href=\"#Introducing-Confusion-matrix\" data-toc-modified-id=\"Introducing-Confusion-matrix-5.1\"><span class=\"toc-item-num\"><b>5.1&nbsp;&nbsp;</span><b>Introducing Confusion matrix</a></span></li><li><span><a href=\"#Classification-Metrics:-Precision-and-Recall\" data-toc-modified-id=\"Classification-Metrics:-Precision-and-Recall-5.2\"><span class=\"toc-item-num\"><b>5.2&nbsp;&nbsp;</span><b>Classification Metrics: Precision and Recall</a></span></li></ul></li><li><span><a href=\"#Gradient-Boosting\" data-toc-modified-id=\"Gradient-Boosting-6\"><span class=\"toc-item-num\">6&nbsp;&nbsp;</span><b>Gradient Boosting</a></span><ul class=\"toc-item\"><li><span><a href=\"#Implementing-Gradient-Boosting-in-Scikit-learn\" data-toc-modified-id=\"Implementing-Gradient-Boosting-in-Scikit-learn-6.1\"><span class=\"toc-item-num\"><b>6.1&nbsp;&nbsp;</span><b>Implementing Gradient Boosting in Scikit learn</a></span></li></ul></li><li><span><a href=\"#XGBoost\" data-toc-modified-id=\"XGBoost-7\"><span class=\"toc-item-num\">7&nbsp;&nbsp;</span><b>XGBoost</a></span><ul class=\"toc-item\"><li><span><a href=\"#Summarising-it-all\" data-toc-modified-id=\"Summarising-it-all-7.1\"><span class=\"toc-item-num\">7.1&nbsp;&nbsp;</span><b>Summarising it all</a></span></li></ul></li></ul></div>"
   ]
  },
  {
   "cell_type": "code",
   "execution_count": 1,
   "id": "276ca23c-4e41-453b-b26c-8e11f09a19cb",
   "metadata": {
    "tags": []
   },
   "outputs": [],
   "source": [
    "#import pandas for data related work\n",
    "import pandas as pd\n",
    "#import numpy for numerical computation\n",
    "import numpy as np\n",
    "#import pyplot for our plotting needs\n",
    "import matplotlib.pyplot as plt\n",
    "\n",
    "#Import ordinalEncoder, we wil learn about this in this case study\n",
    "from sklearn.preprocessing import OrdinalEncoder\n",
    "#import train test split\n",
    "from sklearn.model_selection import train_test_split\n"
   ]
  },
  {
   "cell_type": "markdown",
   "id": "751af4e5",
   "metadata": {},
   "source": [
    "# Exploratory Data Analysis"
   ]
  },
  {
   "cell_type": "code",
   "execution_count": 2,
   "id": "5d2ab388-c302-491c-a2c0-88a93c2d252f",
   "metadata": {},
   "outputs": [],
   "source": [
    "#load the data\n",
    "data= pd.read_csv(\"fraud_oracle.csv\")"
   ]
  },
  {
   "cell_type": "code",
   "execution_count": 3,
   "id": "a5b0c3e4-946c-43ba-bac2-55a7949427c4",
   "metadata": {},
   "outputs": [
    {
     "data": {
      "text/plain": [
       "(15420, 33)"
      ]
     },
     "execution_count": 3,
     "metadata": {},
     "output_type": "execute_result"
    }
   ],
   "source": [
    "#lets look at the data's shape\n",
    "data.shape"
   ]
  },
  {
   "cell_type": "code",
   "execution_count": 4,
   "id": "a938bec7-51b3-48d7-8c8a-56c6d1921d20",
   "metadata": {},
   "outputs": [
    {
     "data": {
      "text/plain": [
       "Index(['Month', 'WeekOfMonth', 'DayOfWeek', 'Make', 'AccidentArea',\n",
       "       'DayOfWeekClaimed', 'MonthClaimed', 'WeekOfMonthClaimed', 'Sex',\n",
       "       'MaritalStatus', 'Age', 'Fault', 'PolicyType', 'VehicleCategory',\n",
       "       'VehiclePrice', 'FraudFound_P', 'PolicyNumber', 'RepNumber',\n",
       "       'Deductible', 'DriverRating', 'Days_Policy_Accident',\n",
       "       'Days_Policy_Claim', 'PastNumberOfClaims', 'AgeOfVehicle',\n",
       "       'AgeOfPolicyHolder', 'PoliceReportFiled', 'WitnessPresent', 'AgentType',\n",
       "       'NumberOfSuppliments', 'AddressChange_Claim', 'NumberOfCars', 'Year',\n",
       "       'BasePolicy'],\n",
       "      dtype='object')"
      ]
     },
     "execution_count": 4,
     "metadata": {},
     "output_type": "execute_result"
    }
   ],
   "source": [
    "data.columns"
   ]
  },
  {
   "cell_type": "code",
   "execution_count": 5,
   "id": "f472a7f8-c1a7-4caa-820b-5e1032f471ff",
   "metadata": {},
   "outputs": [
    {
     "data": {
      "text/html": [
       "<div>\n",
       "<style scoped>\n",
       "    .dataframe tbody tr th:only-of-type {\n",
       "        vertical-align: middle;\n",
       "    }\n",
       "\n",
       "    .dataframe tbody tr th {\n",
       "        vertical-align: top;\n",
       "    }\n",
       "\n",
       "    .dataframe thead th {\n",
       "        text-align: right;\n",
       "    }\n",
       "</style>\n",
       "<table border=\"1\" class=\"dataframe\">\n",
       "  <thead>\n",
       "    <tr style=\"text-align: right;\">\n",
       "      <th></th>\n",
       "      <th>Month</th>\n",
       "      <th>WeekOfMonth</th>\n",
       "      <th>DayOfWeek</th>\n",
       "      <th>Make</th>\n",
       "      <th>AccidentArea</th>\n",
       "      <th>DayOfWeekClaimed</th>\n",
       "      <th>MonthClaimed</th>\n",
       "      <th>WeekOfMonthClaimed</th>\n",
       "      <th>Sex</th>\n",
       "      <th>MaritalStatus</th>\n",
       "      <th>...</th>\n",
       "      <th>AgeOfVehicle</th>\n",
       "      <th>AgeOfPolicyHolder</th>\n",
       "      <th>PoliceReportFiled</th>\n",
       "      <th>WitnessPresent</th>\n",
       "      <th>AgentType</th>\n",
       "      <th>NumberOfSuppliments</th>\n",
       "      <th>AddressChange_Claim</th>\n",
       "      <th>NumberOfCars</th>\n",
       "      <th>Year</th>\n",
       "      <th>BasePolicy</th>\n",
       "    </tr>\n",
       "  </thead>\n",
       "  <tbody>\n",
       "    <tr>\n",
       "      <th>0</th>\n",
       "      <td>Dec</td>\n",
       "      <td>5</td>\n",
       "      <td>Wednesday</td>\n",
       "      <td>Honda</td>\n",
       "      <td>Urban</td>\n",
       "      <td>Tuesday</td>\n",
       "      <td>Jan</td>\n",
       "      <td>1</td>\n",
       "      <td>Female</td>\n",
       "      <td>Single</td>\n",
       "      <td>...</td>\n",
       "      <td>3 years</td>\n",
       "      <td>26 to 30</td>\n",
       "      <td>No</td>\n",
       "      <td>No</td>\n",
       "      <td>External</td>\n",
       "      <td>none</td>\n",
       "      <td>1 year</td>\n",
       "      <td>3 to 4</td>\n",
       "      <td>1994</td>\n",
       "      <td>Liability</td>\n",
       "    </tr>\n",
       "    <tr>\n",
       "      <th>1</th>\n",
       "      <td>Jan</td>\n",
       "      <td>3</td>\n",
       "      <td>Wednesday</td>\n",
       "      <td>Honda</td>\n",
       "      <td>Urban</td>\n",
       "      <td>Monday</td>\n",
       "      <td>Jan</td>\n",
       "      <td>4</td>\n",
       "      <td>Male</td>\n",
       "      <td>Single</td>\n",
       "      <td>...</td>\n",
       "      <td>6 years</td>\n",
       "      <td>31 to 35</td>\n",
       "      <td>Yes</td>\n",
       "      <td>No</td>\n",
       "      <td>External</td>\n",
       "      <td>none</td>\n",
       "      <td>no change</td>\n",
       "      <td>1 vehicle</td>\n",
       "      <td>1994</td>\n",
       "      <td>Collision</td>\n",
       "    </tr>\n",
       "    <tr>\n",
       "      <th>2</th>\n",
       "      <td>Oct</td>\n",
       "      <td>5</td>\n",
       "      <td>Friday</td>\n",
       "      <td>Honda</td>\n",
       "      <td>Urban</td>\n",
       "      <td>Thursday</td>\n",
       "      <td>Nov</td>\n",
       "      <td>2</td>\n",
       "      <td>Male</td>\n",
       "      <td>Married</td>\n",
       "      <td>...</td>\n",
       "      <td>7 years</td>\n",
       "      <td>41 to 50</td>\n",
       "      <td>No</td>\n",
       "      <td>No</td>\n",
       "      <td>External</td>\n",
       "      <td>none</td>\n",
       "      <td>no change</td>\n",
       "      <td>1 vehicle</td>\n",
       "      <td>1994</td>\n",
       "      <td>Collision</td>\n",
       "    </tr>\n",
       "    <tr>\n",
       "      <th>3</th>\n",
       "      <td>Jun</td>\n",
       "      <td>2</td>\n",
       "      <td>Saturday</td>\n",
       "      <td>Toyota</td>\n",
       "      <td>Rural</td>\n",
       "      <td>Friday</td>\n",
       "      <td>Jul</td>\n",
       "      <td>1</td>\n",
       "      <td>Male</td>\n",
       "      <td>Married</td>\n",
       "      <td>...</td>\n",
       "      <td>more than 7</td>\n",
       "      <td>51 to 65</td>\n",
       "      <td>Yes</td>\n",
       "      <td>No</td>\n",
       "      <td>External</td>\n",
       "      <td>more than 5</td>\n",
       "      <td>no change</td>\n",
       "      <td>1 vehicle</td>\n",
       "      <td>1994</td>\n",
       "      <td>Liability</td>\n",
       "    </tr>\n",
       "    <tr>\n",
       "      <th>4</th>\n",
       "      <td>Jan</td>\n",
       "      <td>5</td>\n",
       "      <td>Monday</td>\n",
       "      <td>Honda</td>\n",
       "      <td>Urban</td>\n",
       "      <td>Tuesday</td>\n",
       "      <td>Feb</td>\n",
       "      <td>2</td>\n",
       "      <td>Female</td>\n",
       "      <td>Single</td>\n",
       "      <td>...</td>\n",
       "      <td>5 years</td>\n",
       "      <td>31 to 35</td>\n",
       "      <td>No</td>\n",
       "      <td>No</td>\n",
       "      <td>External</td>\n",
       "      <td>none</td>\n",
       "      <td>no change</td>\n",
       "      <td>1 vehicle</td>\n",
       "      <td>1994</td>\n",
       "      <td>Collision</td>\n",
       "    </tr>\n",
       "    <tr>\n",
       "      <th>...</th>\n",
       "      <td>...</td>\n",
       "      <td>...</td>\n",
       "      <td>...</td>\n",
       "      <td>...</td>\n",
       "      <td>...</td>\n",
       "      <td>...</td>\n",
       "      <td>...</td>\n",
       "      <td>...</td>\n",
       "      <td>...</td>\n",
       "      <td>...</td>\n",
       "      <td>...</td>\n",
       "      <td>...</td>\n",
       "      <td>...</td>\n",
       "      <td>...</td>\n",
       "      <td>...</td>\n",
       "      <td>...</td>\n",
       "      <td>...</td>\n",
       "      <td>...</td>\n",
       "      <td>...</td>\n",
       "      <td>...</td>\n",
       "      <td>...</td>\n",
       "    </tr>\n",
       "    <tr>\n",
       "      <th>15415</th>\n",
       "      <td>Nov</td>\n",
       "      <td>4</td>\n",
       "      <td>Friday</td>\n",
       "      <td>Toyota</td>\n",
       "      <td>Urban</td>\n",
       "      <td>Tuesday</td>\n",
       "      <td>Nov</td>\n",
       "      <td>5</td>\n",
       "      <td>Male</td>\n",
       "      <td>Married</td>\n",
       "      <td>...</td>\n",
       "      <td>6 years</td>\n",
       "      <td>31 to 35</td>\n",
       "      <td>No</td>\n",
       "      <td>No</td>\n",
       "      <td>External</td>\n",
       "      <td>none</td>\n",
       "      <td>no change</td>\n",
       "      <td>1 vehicle</td>\n",
       "      <td>1996</td>\n",
       "      <td>Collision</td>\n",
       "    </tr>\n",
       "    <tr>\n",
       "      <th>15416</th>\n",
       "      <td>Nov</td>\n",
       "      <td>5</td>\n",
       "      <td>Thursday</td>\n",
       "      <td>Pontiac</td>\n",
       "      <td>Urban</td>\n",
       "      <td>Friday</td>\n",
       "      <td>Dec</td>\n",
       "      <td>1</td>\n",
       "      <td>Male</td>\n",
       "      <td>Married</td>\n",
       "      <td>...</td>\n",
       "      <td>6 years</td>\n",
       "      <td>31 to 35</td>\n",
       "      <td>No</td>\n",
       "      <td>No</td>\n",
       "      <td>External</td>\n",
       "      <td>more than 5</td>\n",
       "      <td>no change</td>\n",
       "      <td>3 to 4</td>\n",
       "      <td>1996</td>\n",
       "      <td>Liability</td>\n",
       "    </tr>\n",
       "    <tr>\n",
       "      <th>15417</th>\n",
       "      <td>Nov</td>\n",
       "      <td>5</td>\n",
       "      <td>Thursday</td>\n",
       "      <td>Toyota</td>\n",
       "      <td>Rural</td>\n",
       "      <td>Friday</td>\n",
       "      <td>Dec</td>\n",
       "      <td>1</td>\n",
       "      <td>Male</td>\n",
       "      <td>Single</td>\n",
       "      <td>...</td>\n",
       "      <td>5 years</td>\n",
       "      <td>26 to 30</td>\n",
       "      <td>No</td>\n",
       "      <td>No</td>\n",
       "      <td>External</td>\n",
       "      <td>1 to 2</td>\n",
       "      <td>no change</td>\n",
       "      <td>1 vehicle</td>\n",
       "      <td>1996</td>\n",
       "      <td>Collision</td>\n",
       "    </tr>\n",
       "    <tr>\n",
       "      <th>15418</th>\n",
       "      <td>Dec</td>\n",
       "      <td>1</td>\n",
       "      <td>Monday</td>\n",
       "      <td>Toyota</td>\n",
       "      <td>Urban</td>\n",
       "      <td>Thursday</td>\n",
       "      <td>Dec</td>\n",
       "      <td>2</td>\n",
       "      <td>Female</td>\n",
       "      <td>Married</td>\n",
       "      <td>...</td>\n",
       "      <td>2 years</td>\n",
       "      <td>31 to 35</td>\n",
       "      <td>No</td>\n",
       "      <td>No</td>\n",
       "      <td>External</td>\n",
       "      <td>more than 5</td>\n",
       "      <td>no change</td>\n",
       "      <td>1 vehicle</td>\n",
       "      <td>1996</td>\n",
       "      <td>All Perils</td>\n",
       "    </tr>\n",
       "    <tr>\n",
       "      <th>15419</th>\n",
       "      <td>Dec</td>\n",
       "      <td>2</td>\n",
       "      <td>Wednesday</td>\n",
       "      <td>Toyota</td>\n",
       "      <td>Urban</td>\n",
       "      <td>Thursday</td>\n",
       "      <td>Dec</td>\n",
       "      <td>3</td>\n",
       "      <td>Male</td>\n",
       "      <td>Single</td>\n",
       "      <td>...</td>\n",
       "      <td>5 years</td>\n",
       "      <td>26 to 30</td>\n",
       "      <td>No</td>\n",
       "      <td>No</td>\n",
       "      <td>External</td>\n",
       "      <td>1 to 2</td>\n",
       "      <td>no change</td>\n",
       "      <td>1 vehicle</td>\n",
       "      <td>1996</td>\n",
       "      <td>Collision</td>\n",
       "    </tr>\n",
       "  </tbody>\n",
       "</table>\n",
       "<p>15420 rows × 33 columns</p>\n",
       "</div>"
      ],
      "text/plain": [
       "      Month  WeekOfMonth  DayOfWeek     Make AccidentArea DayOfWeekClaimed  \\\n",
       "0       Dec            5  Wednesday    Honda        Urban          Tuesday   \n",
       "1       Jan            3  Wednesday    Honda        Urban           Monday   \n",
       "2       Oct            5     Friday    Honda        Urban         Thursday   \n",
       "3       Jun            2   Saturday   Toyota        Rural           Friday   \n",
       "4       Jan            5     Monday    Honda        Urban          Tuesday   \n",
       "...     ...          ...        ...      ...          ...              ...   \n",
       "15415   Nov            4     Friday   Toyota        Urban          Tuesday   \n",
       "15416   Nov            5   Thursday  Pontiac        Urban           Friday   \n",
       "15417   Nov            5   Thursday   Toyota        Rural           Friday   \n",
       "15418   Dec            1     Monday   Toyota        Urban         Thursday   \n",
       "15419   Dec            2  Wednesday   Toyota        Urban         Thursday   \n",
       "\n",
       "      MonthClaimed  WeekOfMonthClaimed     Sex MaritalStatus  ...  \\\n",
       "0              Jan                   1  Female        Single  ...   \n",
       "1              Jan                   4    Male        Single  ...   \n",
       "2              Nov                   2    Male       Married  ...   \n",
       "3              Jul                   1    Male       Married  ...   \n",
       "4              Feb                   2  Female        Single  ...   \n",
       "...            ...                 ...     ...           ...  ...   \n",
       "15415          Nov                   5    Male       Married  ...   \n",
       "15416          Dec                   1    Male       Married  ...   \n",
       "15417          Dec                   1    Male        Single  ...   \n",
       "15418          Dec                   2  Female       Married  ...   \n",
       "15419          Dec                   3    Male        Single  ...   \n",
       "\n",
       "       AgeOfVehicle AgeOfPolicyHolder PoliceReportFiled WitnessPresent  \\\n",
       "0           3 years          26 to 30                No             No   \n",
       "1           6 years          31 to 35               Yes             No   \n",
       "2           7 years          41 to 50                No             No   \n",
       "3       more than 7          51 to 65               Yes             No   \n",
       "4           5 years          31 to 35                No             No   \n",
       "...             ...               ...               ...            ...   \n",
       "15415       6 years          31 to 35                No             No   \n",
       "15416       6 years          31 to 35                No             No   \n",
       "15417       5 years          26 to 30                No             No   \n",
       "15418       2 years          31 to 35                No             No   \n",
       "15419       5 years          26 to 30                No             No   \n",
       "\n",
       "      AgentType  NumberOfSuppliments  AddressChange_Claim  NumberOfCars  Year  \\\n",
       "0      External                 none               1 year        3 to 4  1994   \n",
       "1      External                 none            no change     1 vehicle  1994   \n",
       "2      External                 none            no change     1 vehicle  1994   \n",
       "3      External          more than 5            no change     1 vehicle  1994   \n",
       "4      External                 none            no change     1 vehicle  1994   \n",
       "...         ...                  ...                  ...           ...   ...   \n",
       "15415  External                 none            no change     1 vehicle  1996   \n",
       "15416  External          more than 5            no change        3 to 4  1996   \n",
       "15417  External               1 to 2            no change     1 vehicle  1996   \n",
       "15418  External          more than 5            no change     1 vehicle  1996   \n",
       "15419  External               1 to 2            no change     1 vehicle  1996   \n",
       "\n",
       "       BasePolicy  \n",
       "0       Liability  \n",
       "1       Collision  \n",
       "2       Collision  \n",
       "3       Liability  \n",
       "4       Collision  \n",
       "...           ...  \n",
       "15415   Collision  \n",
       "15416   Liability  \n",
       "15417   Collision  \n",
       "15418  All Perils  \n",
       "15419   Collision  \n",
       "\n",
       "[15420 rows x 33 columns]"
      ]
     },
     "execution_count": 5,
     "metadata": {},
     "output_type": "execute_result"
    }
   ],
   "source": [
    "data"
   ]
  },
  {
   "cell_type": "markdown",
   "id": "6e4b8827-9585-4a44-a23c-ad39624599fb",
   "metadata": {},
   "source": []
  },
  {
   "cell_type": "code",
   "execution_count": 6,
   "id": "2e1be692-03e2-449b-b9b0-aa1785fc1a62",
   "metadata": {},
   "outputs": [
    {
     "name": "stdout",
     "output_type": "stream",
     "text": [
      "<class 'pandas.core.frame.DataFrame'>\n",
      "RangeIndex: 15420 entries, 0 to 15419\n",
      "Data columns (total 33 columns):\n",
      " #   Column                Non-Null Count  Dtype \n",
      "---  ------                --------------  ----- \n",
      " 0   Month                 15420 non-null  object\n",
      " 1   WeekOfMonth           15420 non-null  int64 \n",
      " 2   DayOfWeek             15420 non-null  object\n",
      " 3   Make                  15420 non-null  object\n",
      " 4   AccidentArea          15420 non-null  object\n",
      " 5   DayOfWeekClaimed      15420 non-null  object\n",
      " 6   MonthClaimed          15420 non-null  object\n",
      " 7   WeekOfMonthClaimed    15420 non-null  int64 \n",
      " 8   Sex                   15420 non-null  object\n",
      " 9   MaritalStatus         15420 non-null  object\n",
      " 10  Age                   15420 non-null  int64 \n",
      " 11  Fault                 15420 non-null  object\n",
      " 12  PolicyType            15420 non-null  object\n",
      " 13  VehicleCategory       15420 non-null  object\n",
      " 14  VehiclePrice          15420 non-null  object\n",
      " 15  FraudFound_P          15420 non-null  int64 \n",
      " 16  PolicyNumber          15420 non-null  int64 \n",
      " 17  RepNumber             15420 non-null  int64 \n",
      " 18  Deductible            15420 non-null  int64 \n",
      " 19  DriverRating          15420 non-null  int64 \n",
      " 20  Days_Policy_Accident  15420 non-null  object\n",
      " 21  Days_Policy_Claim     15420 non-null  object\n",
      " 22  PastNumberOfClaims    15420 non-null  object\n",
      " 23  AgeOfVehicle          15420 non-null  object\n",
      " 24  AgeOfPolicyHolder     15420 non-null  object\n",
      " 25  PoliceReportFiled     15420 non-null  object\n",
      " 26  WitnessPresent        15420 non-null  object\n",
      " 27  AgentType             15420 non-null  object\n",
      " 28  NumberOfSuppliments   15420 non-null  object\n",
      " 29  AddressChange_Claim   15420 non-null  object\n",
      " 30  NumberOfCars          15420 non-null  object\n",
      " 31  Year                  15420 non-null  int64 \n",
      " 32  BasePolicy            15420 non-null  object\n",
      "dtypes: int64(9), object(24)\n",
      "memory usage: 3.9+ MB\n"
     ]
    }
   ],
   "source": [
    "#Get basic info about the data\n",
    "data.info()"
   ]
  },
  {
   "cell_type": "code",
   "execution_count": 7,
   "id": "e89ae7ba-27a9-41b7-8045-44e7ca4b95f5",
   "metadata": {},
   "outputs": [
    {
     "data": {
      "text/html": [
       "<div>\n",
       "<style scoped>\n",
       "    .dataframe tbody tr th:only-of-type {\n",
       "        vertical-align: middle;\n",
       "    }\n",
       "\n",
       "    .dataframe tbody tr th {\n",
       "        vertical-align: top;\n",
       "    }\n",
       "\n",
       "    .dataframe thead th {\n",
       "        text-align: right;\n",
       "    }\n",
       "</style>\n",
       "<table border=\"1\" class=\"dataframe\">\n",
       "  <thead>\n",
       "    <tr style=\"text-align: right;\">\n",
       "      <th></th>\n",
       "      <th>count</th>\n",
       "      <th>mean</th>\n",
       "      <th>std</th>\n",
       "      <th>min</th>\n",
       "      <th>25%</th>\n",
       "      <th>50%</th>\n",
       "      <th>75%</th>\n",
       "      <th>max</th>\n",
       "    </tr>\n",
       "  </thead>\n",
       "  <tbody>\n",
       "    <tr>\n",
       "      <th>WeekOfMonth</th>\n",
       "      <td>15420.0</td>\n",
       "      <td>2.788586</td>\n",
       "      <td>1.287585</td>\n",
       "      <td>1.0</td>\n",
       "      <td>2.00</td>\n",
       "      <td>3.0</td>\n",
       "      <td>4.00</td>\n",
       "      <td>5.0</td>\n",
       "    </tr>\n",
       "    <tr>\n",
       "      <th>WeekOfMonthClaimed</th>\n",
       "      <td>15420.0</td>\n",
       "      <td>2.693969</td>\n",
       "      <td>1.259115</td>\n",
       "      <td>1.0</td>\n",
       "      <td>2.00</td>\n",
       "      <td>3.0</td>\n",
       "      <td>4.00</td>\n",
       "      <td>5.0</td>\n",
       "    </tr>\n",
       "    <tr>\n",
       "      <th>Age</th>\n",
       "      <td>15420.0</td>\n",
       "      <td>39.855707</td>\n",
       "      <td>13.492377</td>\n",
       "      <td>0.0</td>\n",
       "      <td>31.00</td>\n",
       "      <td>38.0</td>\n",
       "      <td>48.00</td>\n",
       "      <td>80.0</td>\n",
       "    </tr>\n",
       "    <tr>\n",
       "      <th>FraudFound_P</th>\n",
       "      <td>15420.0</td>\n",
       "      <td>0.059857</td>\n",
       "      <td>0.237230</td>\n",
       "      <td>0.0</td>\n",
       "      <td>0.00</td>\n",
       "      <td>0.0</td>\n",
       "      <td>0.00</td>\n",
       "      <td>1.0</td>\n",
       "    </tr>\n",
       "    <tr>\n",
       "      <th>PolicyNumber</th>\n",
       "      <td>15420.0</td>\n",
       "      <td>7710.500000</td>\n",
       "      <td>4451.514911</td>\n",
       "      <td>1.0</td>\n",
       "      <td>3855.75</td>\n",
       "      <td>7710.5</td>\n",
       "      <td>11565.25</td>\n",
       "      <td>15420.0</td>\n",
       "    </tr>\n",
       "    <tr>\n",
       "      <th>RepNumber</th>\n",
       "      <td>15420.0</td>\n",
       "      <td>8.483268</td>\n",
       "      <td>4.599948</td>\n",
       "      <td>1.0</td>\n",
       "      <td>5.00</td>\n",
       "      <td>8.0</td>\n",
       "      <td>12.00</td>\n",
       "      <td>16.0</td>\n",
       "    </tr>\n",
       "    <tr>\n",
       "      <th>Deductible</th>\n",
       "      <td>15420.0</td>\n",
       "      <td>407.704280</td>\n",
       "      <td>43.950998</td>\n",
       "      <td>300.0</td>\n",
       "      <td>400.00</td>\n",
       "      <td>400.0</td>\n",
       "      <td>400.00</td>\n",
       "      <td>700.0</td>\n",
       "    </tr>\n",
       "    <tr>\n",
       "      <th>DriverRating</th>\n",
       "      <td>15420.0</td>\n",
       "      <td>2.487808</td>\n",
       "      <td>1.119453</td>\n",
       "      <td>1.0</td>\n",
       "      <td>1.00</td>\n",
       "      <td>2.0</td>\n",
       "      <td>3.00</td>\n",
       "      <td>4.0</td>\n",
       "    </tr>\n",
       "    <tr>\n",
       "      <th>Year</th>\n",
       "      <td>15420.0</td>\n",
       "      <td>1994.866472</td>\n",
       "      <td>0.803313</td>\n",
       "      <td>1994.0</td>\n",
       "      <td>1994.00</td>\n",
       "      <td>1995.0</td>\n",
       "      <td>1996.00</td>\n",
       "      <td>1996.0</td>\n",
       "    </tr>\n",
       "  </tbody>\n",
       "</table>\n",
       "</div>"
      ],
      "text/plain": [
       "                      count         mean          std     min      25%  \\\n",
       "WeekOfMonth         15420.0     2.788586     1.287585     1.0     2.00   \n",
       "WeekOfMonthClaimed  15420.0     2.693969     1.259115     1.0     2.00   \n",
       "Age                 15420.0    39.855707    13.492377     0.0    31.00   \n",
       "FraudFound_P        15420.0     0.059857     0.237230     0.0     0.00   \n",
       "PolicyNumber        15420.0  7710.500000  4451.514911     1.0  3855.75   \n",
       "RepNumber           15420.0     8.483268     4.599948     1.0     5.00   \n",
       "Deductible          15420.0   407.704280    43.950998   300.0   400.00   \n",
       "DriverRating        15420.0     2.487808     1.119453     1.0     1.00   \n",
       "Year                15420.0  1994.866472     0.803313  1994.0  1994.00   \n",
       "\n",
       "                       50%       75%      max  \n",
       "WeekOfMonth            3.0      4.00      5.0  \n",
       "WeekOfMonthClaimed     3.0      4.00      5.0  \n",
       "Age                   38.0     48.00     80.0  \n",
       "FraudFound_P           0.0      0.00      1.0  \n",
       "PolicyNumber        7710.5  11565.25  15420.0  \n",
       "RepNumber              8.0     12.00     16.0  \n",
       "Deductible           400.0    400.00    700.0  \n",
       "DriverRating           2.0      3.00      4.0  \n",
       "Year                1995.0   1996.00   1996.0  "
      ]
     },
     "execution_count": 7,
     "metadata": {},
     "output_type": "execute_result"
    }
   ],
   "source": [
    "#transpose if a nice way of describing the data, we just need to do a .T after the dataframe\n",
    "#mathematically transpose means mean rows and columns and vice- versa\n",
    "#When we are describing the data, transpose helps as it brings the statistical terms above as columns.\n",
    "data.describe().T"
   ]
  },
  {
   "cell_type": "markdown",
   "id": "4278fb86-1850-4fcb-89a6-57ba6d0ad10d",
   "metadata": {},
   "source": [
    "Few interesting points to note:\n",
    "\n",
    "1. As can be seen in the FraudFound_P column, the mean is 0.059857 which is more towards the 0 than 1, \n",
    "hence we can conclude that the data has more 0 cases than 1 cases\n",
    "\n",
    "2. The mean of the Age column is 39.85 which tells 40 year olds are making more claims on an average.\n",
    "\n",
    "3. Rest all numeric column don't make sense to interpret statistically as they are merely numbers or dates with no unique statistic value, for example mean or std dev of RepNumber makes no sense"
   ]
  },
  {
   "cell_type": "markdown",
   "id": "c3cdf0fa-8e80-4877-b303-30a2cff18339",
   "metadata": {
    "tags": []
   },
   "source": [
    "### Analysing Categorical Columns"
   ]
  },
  {
   "cell_type": "code",
   "execution_count": 8,
   "id": "099e9b42-928f-451c-993f-1748122732e1",
   "metadata": {},
   "outputs": [
    {
     "name": "stdout",
     "output_type": "stream",
     "text": [
      "['Month', 'DayOfWeek', 'Make', 'AccidentArea', 'DayOfWeekClaimed', 'MonthClaimed', 'Sex', 'MaritalStatus', 'Fault', 'PolicyType', 'VehicleCategory', 'VehiclePrice', 'Days_Policy_Accident', 'Days_Policy_Claim', 'PastNumberOfClaims', 'AgeOfVehicle', 'AgeOfPolicyHolder', 'PoliceReportFiled', 'WitnessPresent', 'AgentType', 'NumberOfSuppliments', 'AddressChange_Claim', 'NumberOfCars', 'BasePolicy']\n"
     ]
    }
   ],
   "source": [
    "#This is one simple way of finding out all the object columns\n",
    "objectList=data.select_dtypes(include=['object']).columns.tolist()\n",
    "print(objectList)\n",
    "#There will be one more way of filtering the object type columsns, learn more in this case study later!"
   ]
  },
  {
   "cell_type": "markdown",
   "id": "f6e646ae",
   "metadata": {},
   "source": [
    "What we are going to do is analyse all the categorical columns,in the command above, we just got all the categorical columns out, by looking at the all the columns with the dataype \"object.\n",
    "\n",
    "Now we are simply going to plot the histograms of all such columns. \n",
    "This gives us a very good primary insight"
   ]
  },
  {
   "cell_type": "code",
   "execution_count": 9,
   "id": "2ab8784e-beca-4e64-94d5-2a71763b3615",
   "metadata": {},
   "outputs": [],
   "source": [
    "# for col in objectList:\n",
    "    \n",
    "#     plt.figure(figsize=(10,6))\n",
    "#     plt.title(col)\n",
    "#     data[col].value_counts().plot(kind=\"bar\", color=['salmon', 'lightblue'])"
   ]
  },
  {
   "cell_type": "markdown",
   "id": "2ceac350",
   "metadata": {},
   "source": [
    "We could do all of this in a loop so the number of plots become too much in a single series, and it becomes terribly difficult to scroll back and forth on the data.\n",
    "\n",
    "So instead of doing this on a loop, we will analyse these columns one by one and write our insights.\n",
    "I have written down the command to do this though commented above.\n"
   ]
  },
  {
   "cell_type": "markdown",
   "id": "1c38ba26-b401-4d11-915d-c11ccb256372",
   "metadata": {},
   "source": [
    "We will analyse columns manually now and in beetween we will read the conclusions too."
   ]
  },
  {
   "cell_type": "code",
   "execution_count": 10,
   "id": "7e67f424",
   "metadata": {},
   "outputs": [
    {
     "data": {
      "text/plain": [
       "<AxesSubplot: title={'center': 'Month'}>"
      ]
     },
     "execution_count": 10,
     "metadata": {},
     "output_type": "execute_result"
    },
    {
     "data": {
      "image/png": "[encoded data removed]",
      "text/plain": [
       "<Figure size 1000x600 with 1 Axes>"
      ]
     },
     "metadata": {},
     "output_type": "display_data"
    }
   ],
   "source": [
    "#Lets plot the Month column first\n",
    "plt.figure(figsize=(10,6))\n",
    "plt.title(\"Month\")\n",
    "data[\"Month\"].value_counts().plot(kind=\"bar\", color=['orange', 'lightblue'])"
   ]
  },
  {
   "cell_type": "code",
   "execution_count": 11,
   "id": "82bfd2f6",
   "metadata": {},
   "outputs": [
    {
     "data": {
      "text/plain": [
       "<AxesSubplot: title={'center': 'DayOfWeek'}>"
      ]
     },
     "execution_count": 11,
     "metadata": {},
     "output_type": "execute_result"
    },
    {
     "data": {
      "image/png": "[encoded data removed]",
      "text/plain": [
       "<Figure size 1000x600 with 1 Axes>"
      ]
     },
     "metadata": {},
     "output_type": "display_data"
    }
   ],
   "source": [
    "#Lets plot the DayOfWeek column \n",
    "plt.figure(figsize=(10,6))\n",
    "plt.title(\"DayOfWeek\")\n",
    "data[\"DayOfWeek\"].value_counts().plot(kind=\"bar\", color=['orange', 'lightblue'])"
   ]
  },
  {
   "cell_type": "markdown",
   "id": "821af240",
   "metadata": {},
   "source": [
    "Lets talk about conclusions from the above analysis so far.\n",
    "\n",
    "Most months and days are showing similar number of claims. So no big insight there"
   ]
  },
  {
   "cell_type": "markdown",
   "id": "4226f5af",
   "metadata": {},
   "source": [
    "['Month', 'DayOfWeek', 'Make', 'AccidentArea', 'DayOfWeekClaimed', 'MonthClaimed', 'Sex', 'MaritalStatus', 'Fault', 'PolicyType', 'VehicleCategory', 'VehiclePrice', 'Days_Policy_Accident', 'Days_Policy_Claim', 'PastNumberOfClaims', 'AgeOfVehicle', 'AgeOfPolicyHolder', 'PoliceReportFiled', 'WitnessPresent', 'AgentType', 'NumberOfSuppliments', 'AddressChange_Claim', 'NumberOfCars', 'BasePolicy']\n"
   ]
  },
  {
   "cell_type": "code",
   "execution_count": 12,
   "id": "0a767af9",
   "metadata": {},
   "outputs": [
    {
     "data": {
      "text/plain": [
       "<AxesSubplot: title={'center': 'Make'}>"
      ]
     },
     "execution_count": 12,
     "metadata": {},
     "output_type": "execute_result"
    },
    {
     "data": {
      "image/png": "[encoded data removed]",
      "text/plain": [
       "<Figure size 1000x600 with 1 Axes>"
      ]
     },
     "metadata": {},
     "output_type": "display_data"
    }
   ],
   "source": [
    "#Plotting the car make\n",
    "plt.figure(figsize=(10,6))\n",
    "plt.title(\"Make\")\n",
    "data[\"Make\"].value_counts().plot(kind=\"bar\", color=['orange', 'lightblue'])"
   ]
  },
  {
   "cell_type": "markdown",
   "id": "27288f15",
   "metadata": {},
   "source": [
    "So interestingly Pontiac owners are making the most insurance claims, so we do need to report to the business that they need to be careful about these people."
   ]
  },
  {
   "cell_type": "code",
   "execution_count": 13,
   "id": "eaadbfc1",
   "metadata": {},
   "outputs": [
    {
     "data": {
      "text/plain": [
       "<AxesSubplot: title={'center': 'AccidentArea'}>"
      ]
     },
     "execution_count": 13,
     "metadata": {},
     "output_type": "execute_result"
    },
    {
     "data": {
      "image/png": "[encoded data removed]",
      "text/plain": [
       "<Figure size 1000x600 with 1 Axes>"
      ]
     },
     "metadata": {},
     "output_type": "display_data"
    }
   ],
   "source": [
    "#PLotting the AccidentArea Column\n",
    "plt.figure(figsize=(10,6))\n",
    "plt.title('AccidentArea')\n",
    "data['AccidentArea'].value_counts().plot(kind=\"bar\", color=['orange', 'lightblue'])"
   ]
  },
  {
   "cell_type": "markdown",
   "id": "13e9745c",
   "metadata": {},
   "source": [
    "Most claims are happening from Accidents in Urban areas, interestlingly. Strong insight!"
   ]
  },
  {
   "cell_type": "code",
   "execution_count": 14,
   "id": "ec4090c0-8420-4f15-9a07-dedf0dd17a9b",
   "metadata": {},
   "outputs": [
    {
     "data": {
      "text/plain": [
       "<AxesSubplot: title={'center': 'DayOfWeekClaimed'}>"
      ]
     },
     "execution_count": 14,
     "metadata": {},
     "output_type": "execute_result"
    },
    {
     "data": {
      "image/png": "[encoded data removed]",
      "text/plain": [
       "<Figure size 1000x600 with 1 Axes>"
      ]
     },
     "metadata": {},
     "output_type": "display_data"
    }
   ],
   "source": [
    "# plotting the 'DayOfWeekClaimed', \n",
    "    \n",
    "plt.figure(figsize=(10,6))\n",
    "plt.title('DayOfWeekClaimed')\n",
    "data['DayOfWeekClaimed'].value_counts().plot(kind=\"bar\", color=['orange', 'lightblue'])"
   ]
  },
  {
   "cell_type": "code",
   "execution_count": 15,
   "id": "12fd85b1-10b3-49d0-abed-dff6edc68324",
   "metadata": {},
   "outputs": [
    {
     "data": {
      "text/plain": [
       "<AxesSubplot: title={'center': 'MonthClaimed'}>"
      ]
     },
     "execution_count": 15,
     "metadata": {},
     "output_type": "execute_result"
    },
    {
     "data": {
      "image/png": "[encoded data removed]",
      "text/plain": [
       "<Figure size 1000x600 with 1 Axes>"
      ]
     },
     "metadata": {},
     "output_type": "display_data"
    }
   ],
   "source": [
    "#plotting the month claimed\n",
    "plt.figure(figsize=(10,6))\n",
    "plt.title('MonthClaimed')\n",
    "data['MonthClaimed'].value_counts().plot(kind=\"bar\", color=['orange', 'lightblue'])"
   ]
  },
  {
   "cell_type": "markdown",
   "id": "e5243eed",
   "metadata": {},
   "source": [
    "Not a very strong insight here except that people are not making much claims on the weekends!\n"
   ]
  },
  {
   "cell_type": "code",
   "execution_count": 16,
   "id": "bd99352b-3d13-40dc-b84b-a965bb5f588b",
   "metadata": {},
   "outputs": [
    {
     "data": {
      "image/png": "[encoded data removed]",
      "text/plain": [
       "<Figure size 1000x600 with 1 Axes>"
      ]
     },
     "metadata": {},
     "output_type": "display_data"
    },
    {
     "data": {
      "image/png": "[encoded data removed]",
      "text/plain": [
       "<Figure size 1000x600 with 1 Axes>"
      ]
     },
     "metadata": {},
     "output_type": "display_data"
    },
    {
     "data": {
      "image/png": "[encoded data removed]",
      "text/plain": [
       "<Figure size 1000x600 with 1 Axes>"
      ]
     },
     "metadata": {},
     "output_type": "display_data"
    }
   ],
   "source": [
    "#plotting the sex, maritalStatus and Fault columns\n",
    "cols=['Sex', 'MaritalStatus', 'Fault']\n",
    "for col in cols:\n",
    "    plt.figure(figsize=(10,6))\n",
    "    plt.title(col)\n",
    "    data[col].value_counts().plot(kind=\"bar\", color=['orange', 'lightblue'])"
   ]
  },
  {
   "cell_type": "markdown",
   "id": "b5aa1be6",
   "metadata": {},
   "source": [
    "Ok a number of insights from these plots:\n",
    "\n",
    "1. Males are making more claims than females\n",
    "2. Married people are making more claims\n",
    "3. Policy holders are doing more claims than third parties"
   ]
  },
  {
   "cell_type": "code",
   "execution_count": 17,
   "id": "009a25b2",
   "metadata": {},
   "outputs": [
    {
     "data": {
      "image/png": "[encoded data removed]",
      "text/plain": [
       "<Figure size 1000x600 with 1 Axes>"
      ]
     },
     "metadata": {},
     "output_type": "display_data"
    },
    {
     "data": {
      "image/png": "[encoded data removed]",
      "text/plain": [
       "<Figure size 1000x600 with 1 Axes>"
      ]
     },
     "metadata": {},
     "output_type": "display_data"
    }
   ],
   "source": [
    "#plotting the 'VehicleCategory', 'VehiclePrice'\n",
    "cols=['VehicleCategory', 'VehiclePrice']\n",
    "for col in cols:\n",
    "    plt.figure(figsize=(10,6))\n",
    "    plt.title(col)\n",
    "    data[col].value_counts().plot(kind=\"bar\", color=['pink', 'blue'])"
   ]
  },
  {
   "cell_type": "markdown",
   "id": "62ef92d3",
   "metadata": {},
   "source": [
    "Ah nice insights here too!\n",
    "\n",
    "Sedans have the most claims, so we really need to be careful from the sedan owners\n",
    "Also most claims are made in the 20k- 29k category, again a category to be careful."
   ]
  },
  {
   "cell_type": "markdown",
   "id": "a058f25f",
   "metadata": {},
   "source": [
    "You are welcome to check out more columns, We feel these columns are enough to give you an idea on how to draw insights from these columns"
   ]
  },
  {
   "cell_type": "markdown",
   "id": "a2e0ae70-f459-4308-8186-03d4adc778bf",
   "metadata": {},
   "source": [
    "### Analysing Frauds"
   ]
  },
  {
   "cell_type": "markdown",
   "id": "355dc9cb",
   "metadata": {},
   "source": [
    "In this section, we are going to analyse the remaining few columns and use some new techniques to do.\n",
    "Also we are only going to be analysing the data where Frauds are indeed found.\n",
    "\n",
    "The purpose is to give you more tools to analyse and make decisions on the data"
   ]
  },
  {
   "cell_type": "code",
   "execution_count": 18,
   "id": "10e29480-0152-42b7-b3e1-65d499b2ad59",
   "metadata": {},
   "outputs": [
    {
     "data": {
      "text/plain": [
       "FraudFound_P\n",
       "0    14497\n",
       "1      923\n",
       "Name: DriverRating, dtype: int64"
      ]
     },
     "execution_count": 18,
     "metadata": {},
     "output_type": "execute_result"
    }
   ],
   "source": [
    "#Lets look at the frauds we have by driver rating\n",
    "data.groupby(['FraudFound_P'])['DriverRating'].count()"
   ]
  },
  {
   "cell_type": "code",
   "execution_count": 19,
   "id": "817d976d-5dad-453f-ac2a-18bb937d65bb",
   "metadata": {},
   "outputs": [
    {
     "data": {
      "text/plain": [
       "<AxesSubplot: >"
      ]
     },
     "execution_count": 19,
     "metadata": {},
     "output_type": "execute_result"
    },
    {
     "data": {
      "image/png": "[encoded data removed]",
      "text/plain": [
       "<Figure size 640x480 with 1 Axes>"
      ]
     },
     "metadata": {},
     "output_type": "display_data"
    }
   ],
   "source": [
    "# Plot the histogram of Driver rating when frauds are found\n",
    "data[data[\"FraudFound_P\"]==1].DriverRating.hist()"
   ]
  },
  {
   "cell_type": "markdown",
   "id": "60af8f9e",
   "metadata": {},
   "source": [
    "OK, so usually driver rating 3.0 is doing most frauds!"
   ]
  },
  {
   "cell_type": "code",
   "execution_count": 20,
   "id": "99934fe8",
   "metadata": {},
   "outputs": [
    {
     "data": {
      "text/plain": [
       "<AxesSubplot: >"
      ]
     },
     "execution_count": 20,
     "metadata": {},
     "output_type": "execute_result"
    },
    {
     "data": {
      "image/png": "[encoded data removed]",
      "text/plain": [
       "<Figure size 640x480 with 1 Axes>"
      ]
     },
     "metadata": {},
     "output_type": "display_data"
    }
   ],
   "source": [
    "# Similar plot as above but with PastNumberOfClaims column\n",
    "data[data[\"FraudFound_P\"]==1].PastNumberOfClaims.hist()"
   ]
  },
  {
   "cell_type": "markdown",
   "id": "3068eeac",
   "metadata": {},
   "source": [
    "**So interesting!!**\n",
    "\n",
    "Most number of frauds are done by people who have made no previous claims. Wow, counter to what you'd usually expect"
   ]
  },
  {
   "cell_type": "code",
   "execution_count": 21,
   "id": "23444766",
   "metadata": {},
   "outputs": [
    {
     "data": {
      "text/plain": [
       "<AxesSubplot: >"
      ]
     },
     "execution_count": 21,
     "metadata": {},
     "output_type": "execute_result"
    },
    {
     "data": {
      "image/png": "[encoded data removed]",
      "text/plain": [
       "<Figure size 640x480 with 1 Axes>"
      ]
     },
     "metadata": {},
     "output_type": "display_data"
    }
   ],
   "source": [
    "#plotting frauds with FraudFound\n",
    "data[data[\"FraudFound_P\"]==1].BasePolicy.hist()"
   ]
  },
  {
   "cell_type": "markdown",
   "id": "dbf8517d",
   "metadata": {},
   "source": [
    "All perils policy type is the one to be careful!"
   ]
  },
  {
   "cell_type": "markdown",
   "id": "5da540c9-654d-4b94-92c2-157f0ff06416",
   "metadata": {},
   "source": [
    "## Feature Engineering"
   ]
  },
  {
   "cell_type": "markdown",
   "id": "9db4e61f-d157-4176-a5f9-d606f471e4da",
   "metadata": {},
   "source": [
    "### Encoding binary categorical features"
   ]
  },
  {
   "cell_type": "markdown",
   "id": "a2ea8c56-d42a-41c2-b0fe-7653c165526c",
   "metadata": {},
   "source": [
    "We start small and first take care of the binary features, and encode them with 0s and 1s:\n",
    "\n",
    "AccidentArea:\n",
    "1=Urban, 0=Rural\n",
    "\n",
    "Sex:\n",
    "1=Female, 0=Male\n",
    "\n",
    "Fault:\n",
    "1=Policy Holder, 0=Third Party\n",
    "\n",
    "PoliceReportFiled:\n",
    "1=Yes, 0=No\n",
    "\n",
    "WitnessPresent:\n",
    "1=Yes, 0=No\n",
    "\n",
    "AgentType:\n",
    "1=External 0=Internal"
   ]
  },
  {
   "cell_type": "markdown",
   "id": "d3a2f5fa-e7d3-4e0e-bb33-b089dbdbac0d",
   "metadata": {},
   "source": [
    "We learn a new way of encoding binary variables in this section"
   ]
  },
  {
   "cell_type": "code",
   "execution_count": 22,
   "id": "d32a9011-77db-49f8-8bf8-2cc145e41e51",
   "metadata": {},
   "outputs": [],
   "source": [
    "#list all the cols we mentioned above. \n",
    "cols = ['AccidentArea', 'Sex', 'Fault', 'PoliceReportFiled', 'WitnessPresent', 'AgentType']\n",
    "#We now create 2 lists, these lists  help us create 0 and 1 values for our col values later\n",
    "#Aval is for 1, Bval is those we assign 0 to.\n",
    "Aval = ['Urban','Female','Policy Holder', 'Yes', 'Yes','External']\n",
    "Bval = ['Rural', 'Male', 'Third Party', 'No', 'No', 'Internal']\n",
    "\n",
    "#We just now loop over each column in the above list and assign 1 to our Avals and 0 to bVals.\n",
    "for i in range(len(cols)):\n",
    "    X_idx1 = data[cols[i]]==Aval[i]\n",
    "    X_idx2 = data[cols[i]]==Bval[i]\n",
    "\n",
    "    data.loc[list(X_idx1),cols[i]]=1\n",
    "    data.loc[list(X_idx2),cols[i]]=0"
   ]
  },
  {
   "cell_type": "code",
   "execution_count": 23,
   "id": "04ea9c76-696c-4b22-bc06-bcc5ab63ce70",
   "metadata": {},
   "outputs": [
    {
     "data": {
      "text/html": [
       "<div>\n",
       "<style scoped>\n",
       "    .dataframe tbody tr th:only-of-type {\n",
       "        vertical-align: middle;\n",
       "    }\n",
       "\n",
       "    .dataframe tbody tr th {\n",
       "        vertical-align: top;\n",
       "    }\n",
       "\n",
       "    .dataframe thead th {\n",
       "        text-align: right;\n",
       "    }\n",
       "</style>\n",
       "<table border=\"1\" class=\"dataframe\">\n",
       "  <thead>\n",
       "    <tr style=\"text-align: right;\">\n",
       "      <th></th>\n",
       "      <th>Month</th>\n",
       "      <th>WeekOfMonth</th>\n",
       "      <th>DayOfWeek</th>\n",
       "      <th>Make</th>\n",
       "      <th>AccidentArea</th>\n",
       "      <th>DayOfWeekClaimed</th>\n",
       "      <th>MonthClaimed</th>\n",
       "      <th>WeekOfMonthClaimed</th>\n",
       "      <th>Sex</th>\n",
       "      <th>MaritalStatus</th>\n",
       "      <th>...</th>\n",
       "      <th>AgeOfVehicle</th>\n",
       "      <th>AgeOfPolicyHolder</th>\n",
       "      <th>PoliceReportFiled</th>\n",
       "      <th>WitnessPresent</th>\n",
       "      <th>AgentType</th>\n",
       "      <th>NumberOfSuppliments</th>\n",
       "      <th>AddressChange_Claim</th>\n",
       "      <th>NumberOfCars</th>\n",
       "      <th>Year</th>\n",
       "      <th>BasePolicy</th>\n",
       "    </tr>\n",
       "  </thead>\n",
       "  <tbody>\n",
       "    <tr>\n",
       "      <th>0</th>\n",
       "      <td>Dec</td>\n",
       "      <td>5</td>\n",
       "      <td>Wednesday</td>\n",
       "      <td>Honda</td>\n",
       "      <td>1</td>\n",
       "      <td>Tuesday</td>\n",
       "      <td>Jan</td>\n",
       "      <td>1</td>\n",
       "      <td>1</td>\n",
       "      <td>Single</td>\n",
       "      <td>...</td>\n",
       "      <td>3 years</td>\n",
       "      <td>26 to 30</td>\n",
       "      <td>0</td>\n",
       "      <td>0</td>\n",
       "      <td>1</td>\n",
       "      <td>none</td>\n",
       "      <td>1 year</td>\n",
       "      <td>3 to 4</td>\n",
       "      <td>1994</td>\n",
       "      <td>Liability</td>\n",
       "    </tr>\n",
       "    <tr>\n",
       "      <th>1</th>\n",
       "      <td>Jan</td>\n",
       "      <td>3</td>\n",
       "      <td>Wednesday</td>\n",
       "      <td>Honda</td>\n",
       "      <td>1</td>\n",
       "      <td>Monday</td>\n",
       "      <td>Jan</td>\n",
       "      <td>4</td>\n",
       "      <td>0</td>\n",
       "      <td>Single</td>\n",
       "      <td>...</td>\n",
       "      <td>6 years</td>\n",
       "      <td>31 to 35</td>\n",
       "      <td>1</td>\n",
       "      <td>0</td>\n",
       "      <td>1</td>\n",
       "      <td>none</td>\n",
       "      <td>no change</td>\n",
       "      <td>1 vehicle</td>\n",
       "      <td>1994</td>\n",
       "      <td>Collision</td>\n",
       "    </tr>\n",
       "    <tr>\n",
       "      <th>2</th>\n",
       "      <td>Oct</td>\n",
       "      <td>5</td>\n",
       "      <td>Friday</td>\n",
       "      <td>Honda</td>\n",
       "      <td>1</td>\n",
       "      <td>Thursday</td>\n",
       "      <td>Nov</td>\n",
       "      <td>2</td>\n",
       "      <td>0</td>\n",
       "      <td>Married</td>\n",
       "      <td>...</td>\n",
       "      <td>7 years</td>\n",
       "      <td>41 to 50</td>\n",
       "      <td>0</td>\n",
       "      <td>0</td>\n",
       "      <td>1</td>\n",
       "      <td>none</td>\n",
       "      <td>no change</td>\n",
       "      <td>1 vehicle</td>\n",
       "      <td>1994</td>\n",
       "      <td>Collision</td>\n",
       "    </tr>\n",
       "    <tr>\n",
       "      <th>3</th>\n",
       "      <td>Jun</td>\n",
       "      <td>2</td>\n",
       "      <td>Saturday</td>\n",
       "      <td>Toyota</td>\n",
       "      <td>0</td>\n",
       "      <td>Friday</td>\n",
       "      <td>Jul</td>\n",
       "      <td>1</td>\n",
       "      <td>0</td>\n",
       "      <td>Married</td>\n",
       "      <td>...</td>\n",
       "      <td>more than 7</td>\n",
       "      <td>51 to 65</td>\n",
       "      <td>1</td>\n",
       "      <td>0</td>\n",
       "      <td>1</td>\n",
       "      <td>more than 5</td>\n",
       "      <td>no change</td>\n",
       "      <td>1 vehicle</td>\n",
       "      <td>1994</td>\n",
       "      <td>Liability</td>\n",
       "    </tr>\n",
       "    <tr>\n",
       "      <th>4</th>\n",
       "      <td>Jan</td>\n",
       "      <td>5</td>\n",
       "      <td>Monday</td>\n",
       "      <td>Honda</td>\n",
       "      <td>1</td>\n",
       "      <td>Tuesday</td>\n",
       "      <td>Feb</td>\n",
       "      <td>2</td>\n",
       "      <td>1</td>\n",
       "      <td>Single</td>\n",
       "      <td>...</td>\n",
       "      <td>5 years</td>\n",
       "      <td>31 to 35</td>\n",
       "      <td>0</td>\n",
       "      <td>0</td>\n",
       "      <td>1</td>\n",
       "      <td>none</td>\n",
       "      <td>no change</td>\n",
       "      <td>1 vehicle</td>\n",
       "      <td>1994</td>\n",
       "      <td>Collision</td>\n",
       "    </tr>\n",
       "    <tr>\n",
       "      <th>...</th>\n",
       "      <td>...</td>\n",
       "      <td>...</td>\n",
       "      <td>...</td>\n",
       "      <td>...</td>\n",
       "      <td>...</td>\n",
       "      <td>...</td>\n",
       "      <td>...</td>\n",
       "      <td>...</td>\n",
       "      <td>...</td>\n",
       "      <td>...</td>\n",
       "      <td>...</td>\n",
       "      <td>...</td>\n",
       "      <td>...</td>\n",
       "      <td>...</td>\n",
       "      <td>...</td>\n",
       "      <td>...</td>\n",
       "      <td>...</td>\n",
       "      <td>...</td>\n",
       "      <td>...</td>\n",
       "      <td>...</td>\n",
       "      <td>...</td>\n",
       "    </tr>\n",
       "    <tr>\n",
       "      <th>15415</th>\n",
       "      <td>Nov</td>\n",
       "      <td>4</td>\n",
       "      <td>Friday</td>\n",
       "      <td>Toyota</td>\n",
       "      <td>1</td>\n",
       "      <td>Tuesday</td>\n",
       "      <td>Nov</td>\n",
       "      <td>5</td>\n",
       "      <td>0</td>\n",
       "      <td>Married</td>\n",
       "      <td>...</td>\n",
       "      <td>6 years</td>\n",
       "      <td>31 to 35</td>\n",
       "      <td>0</td>\n",
       "      <td>0</td>\n",
       "      <td>1</td>\n",
       "      <td>none</td>\n",
       "      <td>no change</td>\n",
       "      <td>1 vehicle</td>\n",
       "      <td>1996</td>\n",
       "      <td>Collision</td>\n",
       "    </tr>\n",
       "    <tr>\n",
       "      <th>15416</th>\n",
       "      <td>Nov</td>\n",
       "      <td>5</td>\n",
       "      <td>Thursday</td>\n",
       "      <td>Pontiac</td>\n",
       "      <td>1</td>\n",
       "      <td>Friday</td>\n",
       "      <td>Dec</td>\n",
       "      <td>1</td>\n",
       "      <td>0</td>\n",
       "      <td>Married</td>\n",
       "      <td>...</td>\n",
       "      <td>6 years</td>\n",
       "      <td>31 to 35</td>\n",
       "      <td>0</td>\n",
       "      <td>0</td>\n",
       "      <td>1</td>\n",
       "      <td>more than 5</td>\n",
       "      <td>no change</td>\n",
       "      <td>3 to 4</td>\n",
       "      <td>1996</td>\n",
       "      <td>Liability</td>\n",
       "    </tr>\n",
       "    <tr>\n",
       "      <th>15417</th>\n",
       "      <td>Nov</td>\n",
       "      <td>5</td>\n",
       "      <td>Thursday</td>\n",
       "      <td>Toyota</td>\n",
       "      <td>0</td>\n",
       "      <td>Friday</td>\n",
       "      <td>Dec</td>\n",
       "      <td>1</td>\n",
       "      <td>0</td>\n",
       "      <td>Single</td>\n",
       "      <td>...</td>\n",
       "      <td>5 years</td>\n",
       "      <td>26 to 30</td>\n",
       "      <td>0</td>\n",
       "      <td>0</td>\n",
       "      <td>1</td>\n",
       "      <td>1 to 2</td>\n",
       "      <td>no change</td>\n",
       "      <td>1 vehicle</td>\n",
       "      <td>1996</td>\n",
       "      <td>Collision</td>\n",
       "    </tr>\n",
       "    <tr>\n",
       "      <th>15418</th>\n",
       "      <td>Dec</td>\n",
       "      <td>1</td>\n",
       "      <td>Monday</td>\n",
       "      <td>Toyota</td>\n",
       "      <td>1</td>\n",
       "      <td>Thursday</td>\n",
       "      <td>Dec</td>\n",
       "      <td>2</td>\n",
       "      <td>1</td>\n",
       "      <td>Married</td>\n",
       "      <td>...</td>\n",
       "      <td>2 years</td>\n",
       "      <td>31 to 35</td>\n",
       "      <td>0</td>\n",
       "      <td>0</td>\n",
       "      <td>1</td>\n",
       "      <td>more than 5</td>\n",
       "      <td>no change</td>\n",
       "      <td>1 vehicle</td>\n",
       "      <td>1996</td>\n",
       "      <td>All Perils</td>\n",
       "    </tr>\n",
       "    <tr>\n",
       "      <th>15419</th>\n",
       "      <td>Dec</td>\n",
       "      <td>2</td>\n",
       "      <td>Wednesday</td>\n",
       "      <td>Toyota</td>\n",
       "      <td>1</td>\n",
       "      <td>Thursday</td>\n",
       "      <td>Dec</td>\n",
       "      <td>3</td>\n",
       "      <td>0</td>\n",
       "      <td>Single</td>\n",
       "      <td>...</td>\n",
       "      <td>5 years</td>\n",
       "      <td>26 to 30</td>\n",
       "      <td>0</td>\n",
       "      <td>0</td>\n",
       "      <td>1</td>\n",
       "      <td>1 to 2</td>\n",
       "      <td>no change</td>\n",
       "      <td>1 vehicle</td>\n",
       "      <td>1996</td>\n",
       "      <td>Collision</td>\n",
       "    </tr>\n",
       "  </tbody>\n",
       "</table>\n",
       "<p>15420 rows × 33 columns</p>\n",
       "</div>"
      ],
      "text/plain": [
       "      Month  WeekOfMonth  DayOfWeek     Make AccidentArea DayOfWeekClaimed  \\\n",
       "0       Dec            5  Wednesday    Honda            1          Tuesday   \n",
       "1       Jan            3  Wednesday    Honda            1           Monday   \n",
       "2       Oct            5     Friday    Honda            1         Thursday   \n",
       "3       Jun            2   Saturday   Toyota            0           Friday   \n",
       "4       Jan            5     Monday    Honda            1          Tuesday   \n",
       "...     ...          ...        ...      ...          ...              ...   \n",
       "15415   Nov            4     Friday   Toyota            1          Tuesday   \n",
       "15416   Nov            5   Thursday  Pontiac            1           Friday   \n",
       "15417   Nov            5   Thursday   Toyota            0           Friday   \n",
       "15418   Dec            1     Monday   Toyota            1         Thursday   \n",
       "15419   Dec            2  Wednesday   Toyota            1         Thursday   \n",
       "\n",
       "      MonthClaimed  WeekOfMonthClaimed Sex MaritalStatus  ...  AgeOfVehicle  \\\n",
       "0              Jan                   1   1        Single  ...       3 years   \n",
       "1              Jan                   4   0        Single  ...       6 years   \n",
       "2              Nov                   2   0       Married  ...       7 years   \n",
       "3              Jul                   1   0       Married  ...   more than 7   \n",
       "4              Feb                   2   1        Single  ...       5 years   \n",
       "...            ...                 ...  ..           ...  ...           ...   \n",
       "15415          Nov                   5   0       Married  ...       6 years   \n",
       "15416          Dec                   1   0       Married  ...       6 years   \n",
       "15417          Dec                   1   0        Single  ...       5 years   \n",
       "15418          Dec                   2   1       Married  ...       2 years   \n",
       "15419          Dec                   3   0        Single  ...       5 years   \n",
       "\n",
       "      AgeOfPolicyHolder PoliceReportFiled WitnessPresent AgentType  \\\n",
       "0              26 to 30                 0              0         1   \n",
       "1              31 to 35                 1              0         1   \n",
       "2              41 to 50                 0              0         1   \n",
       "3              51 to 65                 1              0         1   \n",
       "4              31 to 35                 0              0         1   \n",
       "...                 ...               ...            ...       ...   \n",
       "15415          31 to 35                 0              0         1   \n",
       "15416          31 to 35                 0              0         1   \n",
       "15417          26 to 30                 0              0         1   \n",
       "15418          31 to 35                 0              0         1   \n",
       "15419          26 to 30                 0              0         1   \n",
       "\n",
       "       NumberOfSuppliments  AddressChange_Claim  NumberOfCars  Year  \\\n",
       "0                     none               1 year        3 to 4  1994   \n",
       "1                     none            no change     1 vehicle  1994   \n",
       "2                     none            no change     1 vehicle  1994   \n",
       "3              more than 5            no change     1 vehicle  1994   \n",
       "4                     none            no change     1 vehicle  1994   \n",
       "...                    ...                  ...           ...   ...   \n",
       "15415                 none            no change     1 vehicle  1996   \n",
       "15416          more than 5            no change        3 to 4  1996   \n",
       "15417               1 to 2            no change     1 vehicle  1996   \n",
       "15418          more than 5            no change     1 vehicle  1996   \n",
       "15419               1 to 2            no change     1 vehicle  1996   \n",
       "\n",
       "       BasePolicy  \n",
       "0       Liability  \n",
       "1       Collision  \n",
       "2       Collision  \n",
       "3       Liability  \n",
       "4       Collision  \n",
       "...           ...  \n",
       "15415   Collision  \n",
       "15416   Liability  \n",
       "15417   Collision  \n",
       "15418  All Perils  \n",
       "15419   Collision  \n",
       "\n",
       "[15420 rows x 33 columns]"
      ]
     },
     "execution_count": 23,
     "metadata": {},
     "output_type": "execute_result"
    }
   ],
   "source": [
    "#lets look at the data again now to see what happened\n",
    "data"
   ]
  },
  {
   "cell_type": "markdown",
   "id": "bed5fa43-8d55-4fd4-83f1-14fbc57edbbf",
   "metadata": {},
   "source": [
    "### Ordinal Encoder\n",
    "In this section we learn about a new type of encoding called Ordinal Encoder, this is done for categorical variables. Ordinal encoder takes care of encoding non binary type of categorical variables i.e which can't be encoded to 0-1"
   ]
  },
  {
   "cell_type": "markdown",
   "id": "27a96fea-9d5c-454b-825b-e7dcfd63a87e",
   "metadata": {},
   "source": [
    "The idea behind ordinal encoder is that for all the columns we pass, it will replace the text with nunmbers starting 0 and till the end of the unique values' list.\n",
    "So if we have the values \"A,B,C\" in the column, the orinal encoder will make it 0,1,2"
   ]
  },
  {
   "cell_type": "code",
   "execution_count": 24,
   "id": "009338e1-53c7-4ee4-976e-a8da4ff9aaa9",
   "metadata": {},
   "outputs": [
    {
     "data": {
      "text/html": [
       "<div>\n",
       "<style scoped>\n",
       "    .dataframe tbody tr th:only-of-type {\n",
       "        vertical-align: middle;\n",
       "    }\n",
       "\n",
       "    .dataframe tbody tr th {\n",
       "        vertical-align: top;\n",
       "    }\n",
       "\n",
       "    .dataframe thead th {\n",
       "        text-align: right;\n",
       "    }\n",
       "</style>\n",
       "<table border=\"1\" class=\"dataframe\">\n",
       "  <thead>\n",
       "    <tr style=\"text-align: right;\">\n",
       "      <th></th>\n",
       "      <th>Month</th>\n",
       "      <th>WeekOfMonth</th>\n",
       "      <th>DayOfWeek</th>\n",
       "      <th>Make</th>\n",
       "      <th>AccidentArea</th>\n",
       "      <th>DayOfWeekClaimed</th>\n",
       "      <th>MonthClaimed</th>\n",
       "      <th>WeekOfMonthClaimed</th>\n",
       "      <th>Sex</th>\n",
       "      <th>MaritalStatus</th>\n",
       "      <th>...</th>\n",
       "      <th>AgeOfVehicle</th>\n",
       "      <th>AgeOfPolicyHolder</th>\n",
       "      <th>PoliceReportFiled</th>\n",
       "      <th>WitnessPresent</th>\n",
       "      <th>AgentType</th>\n",
       "      <th>NumberOfSuppliments</th>\n",
       "      <th>AddressChange_Claim</th>\n",
       "      <th>NumberOfCars</th>\n",
       "      <th>Year</th>\n",
       "      <th>BasePolicy</th>\n",
       "    </tr>\n",
       "  </thead>\n",
       "  <tbody>\n",
       "    <tr>\n",
       "      <th>0</th>\n",
       "      <td>2.0</td>\n",
       "      <td>5</td>\n",
       "      <td>6.0</td>\n",
       "      <td>6.0</td>\n",
       "      <td>1</td>\n",
       "      <td>6.0</td>\n",
       "      <td>5.0</td>\n",
       "      <td>1</td>\n",
       "      <td>1</td>\n",
       "      <td>2.0</td>\n",
       "      <td>...</td>\n",
       "      <td>3 years</td>\n",
       "      <td>26 to 30</td>\n",
       "      <td>0</td>\n",
       "      <td>0</td>\n",
       "      <td>1</td>\n",
       "      <td>3.0</td>\n",
       "      <td>1 year</td>\n",
       "      <td>3 to 4</td>\n",
       "      <td>1994</td>\n",
       "      <td>2.0</td>\n",
       "    </tr>\n",
       "    <tr>\n",
       "      <th>1</th>\n",
       "      <td>4.0</td>\n",
       "      <td>3</td>\n",
       "      <td>6.0</td>\n",
       "      <td>6.0</td>\n",
       "      <td>1</td>\n",
       "      <td>2.0</td>\n",
       "      <td>5.0</td>\n",
       "      <td>4</td>\n",
       "      <td>0</td>\n",
       "      <td>2.0</td>\n",
       "      <td>...</td>\n",
       "      <td>6 years</td>\n",
       "      <td>31 to 35</td>\n",
       "      <td>1</td>\n",
       "      <td>0</td>\n",
       "      <td>1</td>\n",
       "      <td>3.0</td>\n",
       "      <td>no change</td>\n",
       "      <td>1 vehicle</td>\n",
       "      <td>1994</td>\n",
       "      <td>1.0</td>\n",
       "    </tr>\n",
       "    <tr>\n",
       "      <th>2</th>\n",
       "      <td>10.0</td>\n",
       "      <td>5</td>\n",
       "      <td>0.0</td>\n",
       "      <td>6.0</td>\n",
       "      <td>1</td>\n",
       "      <td>5.0</td>\n",
       "      <td>10.0</td>\n",
       "      <td>2</td>\n",
       "      <td>0</td>\n",
       "      <td>1.0</td>\n",
       "      <td>...</td>\n",
       "      <td>7 years</td>\n",
       "      <td>41 to 50</td>\n",
       "      <td>0</td>\n",
       "      <td>0</td>\n",
       "      <td>1</td>\n",
       "      <td>3.0</td>\n",
       "      <td>no change</td>\n",
       "      <td>1 vehicle</td>\n",
       "      <td>1994</td>\n",
       "      <td>1.0</td>\n",
       "    </tr>\n",
       "    <tr>\n",
       "      <th>3</th>\n",
       "      <td>6.0</td>\n",
       "      <td>2</td>\n",
       "      <td>2.0</td>\n",
       "      <td>17.0</td>\n",
       "      <td>0</td>\n",
       "      <td>1.0</td>\n",
       "      <td>6.0</td>\n",
       "      <td>1</td>\n",
       "      <td>0</td>\n",
       "      <td>1.0</td>\n",
       "      <td>...</td>\n",
       "      <td>more than 7</td>\n",
       "      <td>51 to 65</td>\n",
       "      <td>1</td>\n",
       "      <td>0</td>\n",
       "      <td>1</td>\n",
       "      <td>2.0</td>\n",
       "      <td>no change</td>\n",
       "      <td>1 vehicle</td>\n",
       "      <td>1994</td>\n",
       "      <td>2.0</td>\n",
       "    </tr>\n",
       "    <tr>\n",
       "      <th>4</th>\n",
       "      <td>4.0</td>\n",
       "      <td>5</td>\n",
       "      <td>1.0</td>\n",
       "      <td>6.0</td>\n",
       "      <td>1</td>\n",
       "      <td>6.0</td>\n",
       "      <td>4.0</td>\n",
       "      <td>2</td>\n",
       "      <td>1</td>\n",
       "      <td>2.0</td>\n",
       "      <td>...</td>\n",
       "      <td>5 years</td>\n",
       "      <td>31 to 35</td>\n",
       "      <td>0</td>\n",
       "      <td>0</td>\n",
       "      <td>1</td>\n",
       "      <td>3.0</td>\n",
       "      <td>no change</td>\n",
       "      <td>1 vehicle</td>\n",
       "      <td>1994</td>\n",
       "      <td>1.0</td>\n",
       "    </tr>\n",
       "    <tr>\n",
       "      <th>...</th>\n",
       "      <td>...</td>\n",
       "      <td>...</td>\n",
       "      <td>...</td>\n",
       "      <td>...</td>\n",
       "      <td>...</td>\n",
       "      <td>...</td>\n",
       "      <td>...</td>\n",
       "      <td>...</td>\n",
       "      <td>...</td>\n",
       "      <td>...</td>\n",
       "      <td>...</td>\n",
       "      <td>...</td>\n",
       "      <td>...</td>\n",
       "      <td>...</td>\n",
       "      <td>...</td>\n",
       "      <td>...</td>\n",
       "      <td>...</td>\n",
       "      <td>...</td>\n",
       "      <td>...</td>\n",
       "      <td>...</td>\n",
       "      <td>...</td>\n",
       "    </tr>\n",
       "    <tr>\n",
       "      <th>15415</th>\n",
       "      <td>9.0</td>\n",
       "      <td>4</td>\n",
       "      <td>0.0</td>\n",
       "      <td>17.0</td>\n",
       "      <td>1</td>\n",
       "      <td>6.0</td>\n",
       "      <td>10.0</td>\n",
       "      <td>5</td>\n",
       "      <td>0</td>\n",
       "      <td>1.0</td>\n",
       "      <td>...</td>\n",
       "      <td>6 years</td>\n",
       "      <td>31 to 35</td>\n",
       "      <td>0</td>\n",
       "      <td>0</td>\n",
       "      <td>1</td>\n",
       "      <td>3.0</td>\n",
       "      <td>no change</td>\n",
       "      <td>1 vehicle</td>\n",
       "      <td>1996</td>\n",
       "      <td>1.0</td>\n",
       "    </tr>\n",
       "    <tr>\n",
       "      <th>15416</th>\n",
       "      <td>9.0</td>\n",
       "      <td>5</td>\n",
       "      <td>4.0</td>\n",
       "      <td>13.0</td>\n",
       "      <td>1</td>\n",
       "      <td>1.0</td>\n",
       "      <td>3.0</td>\n",
       "      <td>1</td>\n",
       "      <td>0</td>\n",
       "      <td>1.0</td>\n",
       "      <td>...</td>\n",
       "      <td>6 years</td>\n",
       "      <td>31 to 35</td>\n",
       "      <td>0</td>\n",
       "      <td>0</td>\n",
       "      <td>1</td>\n",
       "      <td>2.0</td>\n",
       "      <td>no change</td>\n",
       "      <td>3 to 4</td>\n",
       "      <td>1996</td>\n",
       "      <td>2.0</td>\n",
       "    </tr>\n",
       "    <tr>\n",
       "      <th>15417</th>\n",
       "      <td>9.0</td>\n",
       "      <td>5</td>\n",
       "      <td>4.0</td>\n",
       "      <td>17.0</td>\n",
       "      <td>0</td>\n",
       "      <td>1.0</td>\n",
       "      <td>3.0</td>\n",
       "      <td>1</td>\n",
       "      <td>0</td>\n",
       "      <td>2.0</td>\n",
       "      <td>...</td>\n",
       "      <td>5 years</td>\n",
       "      <td>26 to 30</td>\n",
       "      <td>0</td>\n",
       "      <td>0</td>\n",
       "      <td>1</td>\n",
       "      <td>0.0</td>\n",
       "      <td>no change</td>\n",
       "      <td>1 vehicle</td>\n",
       "      <td>1996</td>\n",
       "      <td>1.0</td>\n",
       "    </tr>\n",
       "    <tr>\n",
       "      <th>15418</th>\n",
       "      <td>2.0</td>\n",
       "      <td>1</td>\n",
       "      <td>1.0</td>\n",
       "      <td>17.0</td>\n",
       "      <td>1</td>\n",
       "      <td>5.0</td>\n",
       "      <td>3.0</td>\n",
       "      <td>2</td>\n",
       "      <td>1</td>\n",
       "      <td>1.0</td>\n",
       "      <td>...</td>\n",
       "      <td>2 years</td>\n",
       "      <td>31 to 35</td>\n",
       "      <td>0</td>\n",
       "      <td>0</td>\n",
       "      <td>1</td>\n",
       "      <td>2.0</td>\n",
       "      <td>no change</td>\n",
       "      <td>1 vehicle</td>\n",
       "      <td>1996</td>\n",
       "      <td>0.0</td>\n",
       "    </tr>\n",
       "    <tr>\n",
       "      <th>15419</th>\n",
       "      <td>2.0</td>\n",
       "      <td>2</td>\n",
       "      <td>6.0</td>\n",
       "      <td>17.0</td>\n",
       "      <td>1</td>\n",
       "      <td>5.0</td>\n",
       "      <td>3.0</td>\n",
       "      <td>3</td>\n",
       "      <td>0</td>\n",
       "      <td>2.0</td>\n",
       "      <td>...</td>\n",
       "      <td>5 years</td>\n",
       "      <td>26 to 30</td>\n",
       "      <td>0</td>\n",
       "      <td>0</td>\n",
       "      <td>1</td>\n",
       "      <td>0.0</td>\n",
       "      <td>no change</td>\n",
       "      <td>1 vehicle</td>\n",
       "      <td>1996</td>\n",
       "      <td>1.0</td>\n",
       "    </tr>\n",
       "  </tbody>\n",
       "</table>\n",
       "<p>15420 rows × 33 columns</p>\n",
       "</div>"
      ],
      "text/plain": [
       "       Month  WeekOfMonth  DayOfWeek  Make AccidentArea  DayOfWeekClaimed  \\\n",
       "0        2.0            5        6.0   6.0            1               6.0   \n",
       "1        4.0            3        6.0   6.0            1               2.0   \n",
       "2       10.0            5        0.0   6.0            1               5.0   \n",
       "3        6.0            2        2.0  17.0            0               1.0   \n",
       "4        4.0            5        1.0   6.0            1               6.0   \n",
       "...      ...          ...        ...   ...          ...               ...   \n",
       "15415    9.0            4        0.0  17.0            1               6.0   \n",
       "15416    9.0            5        4.0  13.0            1               1.0   \n",
       "15417    9.0            5        4.0  17.0            0               1.0   \n",
       "15418    2.0            1        1.0  17.0            1               5.0   \n",
       "15419    2.0            2        6.0  17.0            1               5.0   \n",
       "\n",
       "       MonthClaimed  WeekOfMonthClaimed Sex  MaritalStatus  ...  AgeOfVehicle  \\\n",
       "0               5.0                   1   1            2.0  ...       3 years   \n",
       "1               5.0                   4   0            2.0  ...       6 years   \n",
       "2              10.0                   2   0            1.0  ...       7 years   \n",
       "3               6.0                   1   0            1.0  ...   more than 7   \n",
       "4               4.0                   2   1            2.0  ...       5 years   \n",
       "...             ...                 ...  ..            ...  ...           ...   \n",
       "15415          10.0                   5   0            1.0  ...       6 years   \n",
       "15416           3.0                   1   0            1.0  ...       6 years   \n",
       "15417           3.0                   1   0            2.0  ...       5 years   \n",
       "15418           3.0                   2   1            1.0  ...       2 years   \n",
       "15419           3.0                   3   0            2.0  ...       5 years   \n",
       "\n",
       "      AgeOfPolicyHolder  PoliceReportFiled  WitnessPresent AgentType  \\\n",
       "0              26 to 30                  0               0         1   \n",
       "1              31 to 35                  1               0         1   \n",
       "2              41 to 50                  0               0         1   \n",
       "3              51 to 65                  1               0         1   \n",
       "4              31 to 35                  0               0         1   \n",
       "...                 ...                ...             ...       ...   \n",
       "15415          31 to 35                  0               0         1   \n",
       "15416          31 to 35                  0               0         1   \n",
       "15417          26 to 30                  0               0         1   \n",
       "15418          31 to 35                  0               0         1   \n",
       "15419          26 to 30                  0               0         1   \n",
       "\n",
       "       NumberOfSuppliments  AddressChange_Claim  NumberOfCars  Year  \\\n",
       "0                      3.0               1 year        3 to 4  1994   \n",
       "1                      3.0            no change     1 vehicle  1994   \n",
       "2                      3.0            no change     1 vehicle  1994   \n",
       "3                      2.0            no change     1 vehicle  1994   \n",
       "4                      3.0            no change     1 vehicle  1994   \n",
       "...                    ...                  ...           ...   ...   \n",
       "15415                  3.0            no change     1 vehicle  1996   \n",
       "15416                  2.0            no change        3 to 4  1996   \n",
       "15417                  0.0            no change     1 vehicle  1996   \n",
       "15418                  2.0            no change     1 vehicle  1996   \n",
       "15419                  0.0            no change     1 vehicle  1996   \n",
       "\n",
       "       BasePolicy  \n",
       "0             2.0  \n",
       "1             1.0  \n",
       "2             1.0  \n",
       "3             2.0  \n",
       "4             1.0  \n",
       "...           ...  \n",
       "15415         1.0  \n",
       "15416         2.0  \n",
       "15417         1.0  \n",
       "15418         0.0  \n",
       "15419         1.0  \n",
       "\n",
       "[15420 rows x 33 columns]"
      ]
     },
     "execution_count": 24,
     "metadata": {},
     "output_type": "execute_result"
    }
   ],
   "source": [
    "#lets create the OrdinalEncoder object imported earlier above\n",
    "enc = OrdinalEncoder()\n",
    "#we make a list of all the columns on which we want to make ordinalEncoding\n",
    "ordinalList=[\"Month\",\"DayOfWeek\", \"DayOfWeekClaimed\",\"MonthClaimed\",\"PastNumberOfClaims\",\"NumberOfSuppliments\",'Make','MaritalStatus','PolicyType','VehicleCategory','BasePolicy']\n",
    "#fit the ordinalEncoder to this data.\n",
    "data[ordinalList] = enc.fit_transform(data[ordinalList])\n",
    "#lets look at the data first.\n",
    "data\n"
   ]
  },
  {
   "cell_type": "markdown",
   "id": "699c12a3-0ee1-44fc-8ed4-06c1e1c0b74c",
   "metadata": {},
   "source": [
    "### Custom Encoding"
   ]
  },
  {
   "cell_type": "markdown",
   "id": "2f40237f-1cca-47ed-90c1-bc23c85ea4ed",
   "metadata": {},
   "source": [
    "For some columns, we can't do the encoding straightaway, we need custom values to those strings, for them we use the custom encoding below. "
   ]
  },
  {
   "cell_type": "code",
   "execution_count": 25,
   "id": "6e085efb-a168-4590-bca1-406b1e15a1be",
   "metadata": {
    "tags": []
   },
   "outputs": [],
   "source": [
    "#We create a dictionary estabilishing the connection between the unique col vlaues and the value we want\n",
    "# to assign them\n",
    "col_map = [{'Days_Policy_Accident':{'more than 30':31,'15 to 30':22.5,'none':0,'1 to 7':4,'8 to 15':11.5}},\n",
    "    {'Days_Policy_Claim':{'more than 30':31,'15 to 30':22.5,'8 to 15':11.5,'none':0}},\n",
    "    {'AgeOfPolicyHolder':{'26 to 30':28,'31 to 35':33,'41 to 50':45.5,'51 to 65':58,'21 to 25':23,'36 to 40':38,'16 to 17':16.5,\n",
    "                                          'over 65':66,'18 to 20':19}},\n",
    "    {'AddressChange_Claim':{'1 year':1,'no change':0,'4 to 8 years':6,'2 to 3 years':2.5,'under 6 months':0.5}},\n",
    "    {'NumberOfCars':{'3 to 4':3.5,'1 vehicle':1,'2 vehicles':2,'5 to 8':6.5,'more than 8':9}},\n",
    "    {'VehiclePrice': {'more than 69000':69001,'20000 to 29000':24500,'30000 to 39000':34500,'less than 20000':19999,\n",
    "                                     '40000 to 59000':49500,'60000 to 69000':64500}},\n",
    "    {'AgeOfVehicle':{'3 years':3,'6 years':6,'7 years':7,'more than 7':8,'5 years':5,'new':0,'4 years':4,'2 years':2}}\n",
    "           \n",
    "]\n",
    "#We create a data copy, since its always good to create a data copy when transforming columns. \n",
    "newData = data.copy()\n",
    "#now we just loop over the required columns, and replace them with the needed values\n",
    "for i in range(len(col_map)):\n",
    "    newData.replace(col_map[i], inplace=True)"
   ]
  },
  {
   "cell_type": "code",
   "execution_count": 26,
   "id": "891f5f2f-4d05-41fc-95f5-ada7a60ac245",
   "metadata": {},
   "outputs": [
    {
     "data": {
      "text/plain": [
       "Month                   float64\n",
       "WeekOfMonth               int64\n",
       "DayOfWeek               float64\n",
       "Make                    float64\n",
       "AccidentArea             object\n",
       "DayOfWeekClaimed        float64\n",
       "MonthClaimed            float64\n",
       "WeekOfMonthClaimed        int64\n",
       "Sex                      object\n",
       "MaritalStatus           float64\n",
       "Age                       int64\n",
       "Fault                    object\n",
       "PolicyType              float64\n",
       "VehicleCategory         float64\n",
       "VehiclePrice              int64\n",
       "FraudFound_P              int64\n",
       "PolicyNumber              int64\n",
       "RepNumber                 int64\n",
       "Deductible                int64\n",
       "DriverRating              int64\n",
       "Days_Policy_Accident    float64\n",
       "Days_Policy_Claim       float64\n",
       "PastNumberOfClaims      float64\n",
       "AgeOfVehicle              int64\n",
       "AgeOfPolicyHolder       float64\n",
       "PoliceReportFiled        object\n",
       "WitnessPresent           object\n",
       "AgentType                object\n",
       "NumberOfSuppliments     float64\n",
       "AddressChange_Claim     float64\n",
       "NumberOfCars            float64\n",
       "Year                      int64\n",
       "BasePolicy              float64\n",
       "dtype: object"
      ]
     },
     "execution_count": 26,
     "metadata": {},
     "output_type": "execute_result"
    }
   ],
   "source": [
    "\n",
    "#lets look at the datatypes now to see how many obhject values do we still have remaining\n",
    "newData.dtypes"
   ]
  },
  {
   "cell_type": "markdown",
   "id": "5c16b2ab-f2ec-4802-8378-b6a50892134c",
   "metadata": {},
   "source": [
    "We still have a few columns remaining, lets see.\n"
   ]
  },
  {
   "cell_type": "code",
   "execution_count": 27,
   "id": "695af146-e2ce-45af-8c67-9309e8a998ae",
   "metadata": {},
   "outputs": [
    {
     "data": {
      "text/plain": [
       "Index(['AccidentArea', 'Sex', 'Fault', 'PoliceReportFiled', 'WitnessPresent',\n",
       "       'AgentType'],\n",
       "      dtype='object')"
      ]
     },
     "execution_count": 27,
     "metadata": {},
     "output_type": "execute_result"
    }
   ],
   "source": [
    "#this is another way of looking at the object data, other than what we learnt earlier\n",
    "newData.loc[:, newData.dtypes == object].columns"
   ]
  },
  {
   "cell_type": "markdown",
   "id": "183f0ca2-a06c-4b97-b009-61db0839dc82",
   "metadata": {},
   "source": [
    "Oops, even though these are numerical columns, they are objects type.\n",
    "We can handle them in one command, nothing to worry!"
   ]
  },
  {
   "cell_type": "code",
   "execution_count": 28,
   "id": "c3037d35-b9aa-43d4-9891-a9323b51207a",
   "metadata": {
    "tags": []
   },
   "outputs": [],
   "source": [
    "#We use the above technique to convert all the reamaining columns who are by values by numeric\n",
    "#but data type is object\n",
    "objCols=newData.loc[:, newData.dtypes == object].columns\n",
    "newData[objCols]=newData[objCols].apply(pd.to_numeric)"
   ]
  },
  {
   "cell_type": "code",
   "execution_count": 29,
   "id": "3131e4c3-e141-4c48-9047-f590c5dca65a",
   "metadata": {},
   "outputs": [
    {
     "data": {
      "text/plain": [
       "Month                   float64\n",
       "WeekOfMonth               int64\n",
       "DayOfWeek               float64\n",
       "Make                    float64\n",
       "AccidentArea              int64\n",
       "DayOfWeekClaimed        float64\n",
       "MonthClaimed            float64\n",
       "WeekOfMonthClaimed        int64\n",
       "Sex                       int64\n",
       "MaritalStatus           float64\n",
       "Age                       int64\n",
       "Fault                     int64\n",
       "PolicyType              float64\n",
       "VehicleCategory         float64\n",
       "VehiclePrice              int64\n",
       "FraudFound_P              int64\n",
       "PolicyNumber              int64\n",
       "RepNumber                 int64\n",
       "Deductible                int64\n",
       "DriverRating              int64\n",
       "Days_Policy_Accident    float64\n",
       "Days_Policy_Claim       float64\n",
       "PastNumberOfClaims      float64\n",
       "AgeOfVehicle              int64\n",
       "AgeOfPolicyHolder       float64\n",
       "PoliceReportFiled         int64\n",
       "WitnessPresent            int64\n",
       "AgentType                 int64\n",
       "NumberOfSuppliments     float64\n",
       "AddressChange_Claim     float64\n",
       "NumberOfCars            float64\n",
       "Year                      int64\n",
       "BasePolicy              float64\n",
       "dtype: object"
      ]
     },
     "execution_count": 29,
     "metadata": {},
     "output_type": "execute_result"
    }
   ],
   "source": [
    "newData.dtypes"
   ]
  },
  {
   "cell_type": "markdown",
   "id": "c0937580-6719-4d95-9ddb-dda56bb4c667",
   "metadata": {},
   "source": [
    "**Perfect we have everything in either float or int now. Lets talk about the modelling now and learn a new technique!**"
   ]
  },
  {
   "cell_type": "markdown",
   "id": "36eb02a4",
   "metadata": {
    "tags": []
   },
   "source": [
    "# Boosting"
   ]
  },
  {
   "cell_type": "markdown",
   "id": "0ea05318",
   "metadata": {},
   "source": [
    "So if you have already gone through the RandomForest case study, you must have heard about the term Bagging.\n",
    "If not nothing to worry!\n",
    "\n",
    "Bagging reduces variance, boosting reduces bias.\n",
    "Wait what's bias and variance?\n",
    "\n",
    "Lets see!"
   ]
  },
  {
   "cell_type": "markdown",
   "id": "507693f9",
   "metadata": {},
   "source": [
    "### Bias Variance tradeoff\n",
    "\n",
    "So after training machine learning models, usually models errors are a combination of 3 things:\n",
    "\n",
    "Error= Bias + Variance+ Irreducible error\n",
    "\n",
    "lets not worry about Irreducible error for now.\n",
    "\n",
    "Lets talk about Bias and Variance"
   ]
  },
  {
   "cell_type": "markdown",
   "id": "d41fd70e",
   "metadata": {},
   "source": [
    "#### Bias"
   ]
  },
  {
   "cell_type": "markdown",
   "id": "6507788b",
   "metadata": {},
   "source": [
    "Bias is the average of difference between the model prediction and the actual value we are trying to predict.\n",
    "Models with high bias are basically that have oversimplified the problem and are not doing good on both train and test.\n",
    "\n",
    "High bias means underfitting models"
   ]
  },
  {
   "cell_type": "markdown",
   "id": "8a69206b",
   "metadata": {},
   "source": [
    "#### Variance\n",
    "Variance is the versatility of the model. High variance means the model is doing good of training data but failing terribly on test data.\n",
    "\n",
    "High variance means overfitting models"
   ]
  },
  {
   "cell_type": "markdown",
   "id": "5e127822",
   "metadata": {},
   "source": [
    "So we have established now, both bias and variance, and since this case study is concerned about boosting, lets focus on reducing bias."
   ]
  },
  {
   "cell_type": "markdown",
   "id": "00f82ad8",
   "metadata": {},
   "source": [
    " ### Boosting Explained"
   ]
  },
  {
   "cell_type": "markdown",
   "id": "67b69503",
   "metadata": {},
   "source": [
    "So we are looking to reduce bias i.e a strong model. For simplicity lets talk about classifier models.\n",
    "We are looking to build a strong classifier with low bias.\n",
    "\n",
    "The idea behind boosting is pretty simple. Can we build a strong classifier using a number of weak classifiers.\n",
    "The answer is yes! we can. We start with a simple classifier, make predicition on it and when we add another classifier, we try to do better on the data points we misclassified in the last one\n",
    "\n"
   ]
  },
  {
   "cell_type": "markdown",
   "id": "1ad03c5f-f115-41e4-9480-0c5bf56f09b9",
   "metadata": {},
   "source": [
    "# Ada Boost "
   ]
  },
  {
   "cell_type": "markdown",
   "id": "ad9f50a3-ae4b-41c7-80ed-d0b654d4d6a9",
   "metadata": {},
   "source": [
    "We will start with learning a simple boosting algorithm called Adaboost.\n",
    "\n",
    "Adaboost or Adaptive boosting works on a simple concept that is behind boosting, i.e lets take together all the weak performers and ensemble them to make a strong classifier. The idea is simple, we run a simple weak classifier first then see how many bad predictions did it make? Then we assign weights to those bad prediction data points, now bad points are weighted. \n",
    "Now we create another classifier, this time with weighted data, more weights to the wrongly classified data points from the last model and less to the correct ones. \n",
    "The adaboost algorithm now randomly selects data points based on the weights assigned. \n",
    "So automatically the data points with more weights are choosen in the dataset for our new classifier. The new classifier now tries to improve and predict those more weighted points.\n",
    "\n",
    "This process is repeated for a number of steps until a low overall training error is achieved. \n",
    "\n",
    "This is a high level overview of adaboost, lets understand the technicalities. \n",
    "\n",
    "Lets understand decision stumps first."
   ]
  },
  {
   "cell_type": "markdown",
   "id": "ecda765c-f6e7-466a-bf22-7c3adc396c3a",
   "metadata": {},
   "source": [
    "## Decision Stumps\n",
    "A decision stump is a simple binary classifier or a simple decision tree that just does one split and predicts a 0 or 1 value. Decision stumps are weak classifiers that we are going to ensemble in adaboost to build our way to a strong classifier.\n",
    "\n"
   ]
  },
  {
   "cell_type": "markdown",
   "id": "214222a9-3afe-45f2-b645-2ffa4e46bc36",
   "metadata": {},
   "source": [
    "## Adaboost in detail\n",
    "\n",
    "So how Adaboost works is that we start by giving equal weight to every data point in our data and that weight is given by $ w(i)=\\frac{1}{N}\\$ initially. So lets say if I had 5 data points, all will have the weight of 1/5 each.\n",
    "\n",
    "Then we run a number of decision stumps on the data, and the stump or the decision tree that gives us the least amount of Gini's impurity (a function to measure the quality of a tree) is choosen.\n",
    "So lets say in 5 data points, my choosen decision stump classified 4 out of 5 correctly. I now have 4 correct and 1 incorrect data points.\n",
    "\n",
    "Next step is to calculate the performance of the stump or amount of say. This number is given by $ \\alpha $\n",
    "\n",
    "$ \\alpha\\ =\\frac{1}{2}\\ \\log_e\\ \\frac{1-Total error}{Total error} $\n",
    "\n",
    "So for misclassified data points we assign the weight as per this formula:\n",
    "$ New weight= old weight * e^{\\pm\\alpha} $\n",
    "\n",
    "The amount of say (alpha) will be negative when the sample is correctly classified. Hence lower New weight\n",
    "\n",
    "The amount of say (alpha) will be positive when the sample is miss-classified.Hence higher New weight\n",
    "\n",
    "So for next iteration, my weights will be updated and then since the algorithm makes a random selection based on weights, these misclassified examples will have higher chance of getting picked.\n",
    "\n"
   ]
  },
  {
   "cell_type": "markdown",
   "id": "83ce293c-dc79-4623-af83-73d6d3e5af86",
   "metadata": {},
   "source": [
    " And that brings us to the end of Adaboost! \n",
    " Since this algorithm is designed based on misclassified data points this does have a risk of overfitting"
   ]
  },
  {
   "cell_type": "markdown",
   "id": "8fe9a47b-2d58-460f-b0e3-9e888c9b4186",
   "metadata": {},
   "source": [
    "### Implementing AdaBoost in Python"
   ]
  },
  {
   "cell_type": "code",
   "execution_count": 112,
   "id": "8d9cf145-ffa7-413f-b537-2ac240a8d9c9",
   "metadata": {},
   "outputs": [],
   "source": [
    "# lets create summary lists. We will use these lists at the end to summarise all the models\n",
    "precisionList=[]\n",
    "recallList=[]\n",
    "accuracyList=[]\n",
    "modelList=[]\n",
    "\n",
    "#dont worry about the names of these lists right now, we will learn about them in a while!"
   ]
  },
  {
   "cell_type": "code",
   "execution_count": 113,
   "id": "56fcb9ab-9679-4dce-a777-61adde4775ee",
   "metadata": {},
   "outputs": [],
   "source": [
    "#lets create our training data now. \n",
    "y=newData.FraudFound_P\n",
    "X=newData.drop('FraudFound_P', axis=1)"
   ]
  },
  {
   "cell_type": "code",
   "execution_count": 114,
   "id": "a2a4c59e-e14a-4baa-be61-b5a7fc0e93d7",
   "metadata": {},
   "outputs": [],
   "source": [
    "#do the train test split, stratify means do stratified sampling using the y column\n",
    "X_train, X_test, y_train, y_test = train_test_split(X, y,stratify=y, random_state=42)\n",
    "\n"
   ]
  },
  {
   "cell_type": "code",
   "execution_count": 115,
   "id": "95581f59-063a-4768-bb2b-71ccffeb398f",
   "metadata": {},
   "outputs": [],
   "source": [
    "#import Scikit learn's Ada boosting classifier\n",
    "from sklearn.ensemble import AdaBoostClassifier\n",
    "#create the classifier object\n",
    "clf = AdaBoostClassifier(random_state=0).fit(X_train, y_train)"
   ]
  },
  {
   "cell_type": "code",
   "execution_count": 116,
   "id": "2e9d5d70-9a09-485d-afc8-740dad08c9dc",
   "metadata": {},
   "outputs": [],
   "source": [
    "#lets do the predictions\n",
    "preds = clf.predict(X_test)"
   ]
  },
  {
   "cell_type": "code",
   "execution_count": 117,
   "id": "fd33bed3-8a61-4346-b4bf-f87993a4585b",
   "metadata": {},
   "outputs": [
    {
     "name": "stdout",
     "output_type": "stream",
     "text": [
      "Accuracy: 0.9333333333333333\n"
     ]
    }
   ],
   "source": [
    "# print accuracy\n",
    "from sklearn import metrics\n",
    "print(\"Accuracy:\",metrics.accuracy_score(y_test, preds))\n",
    "accuracyList.append(metrics.accuracy_score(y_test, preds))\n",
    "modelList.append(\"AdaBoost\")"
   ]
  },
  {
   "cell_type": "markdown",
   "id": "f09108a6-efdb-4f99-b37b-3ab0d796d9d7",
   "metadata": {
    "tags": []
   },
   "source": [
    "# Interpreting Results and some new metrics"
   ]
  },
  {
   "cell_type": "markdown",
   "id": "bf25af31-c794-4e2b-bec3-c711d5cb2428",
   "metadata": {
    "tags": []
   },
   "source": [
    "We got good accuracy but does is that the only metric we should be looking at? NO!\n",
    "When it comes to classification problems, we are more interested in more results than just accuracy.\n",
    "\n",
    "Accuracy may not give you the most correct interpretion. Why? If we look at the classifiers we are looking to classify data as either 0,1 for example.\n",
    "\n",
    "If we just stick to accuracy, our classifier could just predict all the 0 classes and give us 98% accuracy. Does that mean we are doing good? No!\n",
    "We are looking to classify fraud claims for example in this case, we keep classifying the 0 class i.e non fraud customers and get a 93% accuracy doing so it doesnt solve our purpose. \n",
    "We need to classifiy fraudlent cases i.e the 1 class. \n",
    "\n",
    "Accuracy doesnt gives us a picture of how good are we doing classwise. There are many metrics to solve this problem. Today we will look at a simple one. Confusion matrix.\n",
    "\n"
   ]
  },
  {
   "cell_type": "markdown",
   "id": "322ef9c6-0744-47ac-a542-a9200eeddb34",
   "metadata": {},
   "source": [
    "## Introducing Confusion matrix"
   ]
  },
  {
   "cell_type": "markdown",
   "id": "de064459-8759-49a3-b5c8-446608d69253",
   "metadata": {},
   "source": [
    "Confusion matrix gives us an easy way to display the results. \n",
    "We can see where 0 was the real truth and 0 was predicted, Similarly where 1 was the truth and 1 was predicted.\n",
    "Other 2 cases would be where predictions were wrong i.e 0 was predicted instead of 1 and vice versa."
   ]
  },
  {
   "cell_type": "code",
   "execution_count": 118,
   "id": "49b4447d-19c2-4ee8-bbdb-0174f379e75e",
   "metadata": {},
   "outputs": [],
   "source": [
    "#import the confusion matrix from scikit learn\n",
    "from sklearn.metrics import confusion_matrix\n",
    "#create the confusion matrix\n",
    "cm = confusion_matrix(y_test, preds, labels=clf.classes_)"
   ]
  },
  {
   "cell_type": "code",
   "execution_count": 119,
   "id": "c178108b-c546-4dd9-a746-f4bdf870dd5a",
   "metadata": {},
   "outputs": [],
   "source": [
    "#lets display the confusion matrix\n",
    "from sklearn.metrics import ConfusionMatrixDisplay\n",
    "disp = ConfusionMatrixDisplay(confusion_matrix=cm,\n",
    "                         display_labels=clf.classes_)"
   ]
  },
  {
   "cell_type": "code",
   "execution_count": 120,
   "id": "b58bd773-edc4-45a2-9578-6e53c45a4fbd",
   "metadata": {},
   "outputs": [
    {
     "data": {
      "image/png": "[encoded data removed]",
      "text/plain": [
       "<Figure size 640x480 with 2 Axes>"
      ]
     },
     "metadata": {},
     "output_type": "display_data"
    }
   ],
   "source": [
    "#show the plot\n",
    "disp.plot()\n",
    "plt.show()"
   ]
  },
  {
   "cell_type": "markdown",
   "id": "408d4315-88da-4fc9-a2fa-1e5c75fc6cd4",
   "metadata": {},
   "source": [
    "##### This clearly shows:\n",
    "1. In 3595 cases, we predicted that Fraud was not done class as and it was indeed not done, this is called **True Negative**\n",
    "2. In 223 cases we predicted that Fraud was not done even though Fraud was done, this is a **False negative** ,also called **Type 2 error**\n",
    "3. In 29 cases, we predicted that Fraud was done, even though fraud was not done, this is called **False positive**, also called **Type 1 error**\n",
    "4. In 3 cases, we predicted fraud was done and it was indeed done, this is a **True positive**"
   ]
  },
  {
   "cell_type": "markdown",
   "id": "c2b27ef0-d850-456e-8cd0-b8daab4598ac",
   "metadata": {
    "tags": []
   },
   "source": [
    "## Classification Metrics: Precision and Recall"
   ]
  },
  {
   "cell_type": "markdown",
   "id": "488961ec-be72-4d6d-a4b7-786d38b590e7",
   "metadata": {
    "tags": []
   },
   "source": [
    "We define some new metrics apart from Accuracy. Introducing precision and recall:\n",
    "\n",
    "**Precision** : $ \\frac{True Positive}{True positive + False positive}\\ $\n",
    "\n",
    "**Recall**: $ \\frac{True Positive}{True positive + False negative}\\ $"
   ]
  },
  {
   "cell_type": "markdown",
   "id": "2b62a8ca-791c-4b53-9ae2-9480a8c04981",
   "metadata": {},
   "source": [
    "Precision and Recall both provide us with a new level of results for our data.\n",
    "In simpler terms, precision tells us how good are our results, it gives us percentage of the results that are relevant.\n",
    "\n",
    "Recall tells us the percentage of relevant results correctly classified by our algorithm.\n",
    "\n"
   ]
  },
  {
   "cell_type": "markdown",
   "id": "f3869b98-af70-4bab-a905-b9dc6edc1ef2",
   "metadata": {},
   "source": [
    "In our case, recall matters, we are interested in finding fraud cases, so we can't afford some false negatives ie cases when fraud was done but we predicted fraud wasnt done. But we can indeed afford false positives, i.e cases when we said fraud was done but actually fraud never happened. Such cases can be let go by careful business analysis later.\n",
    "So at the end we should be looking to optimise recall."
   ]
  },
  {
   "cell_type": "code",
   "execution_count": 121,
   "id": "e62cd6f0-8911-4d6e-affe-e58e9ecbfba9",
   "metadata": {},
   "outputs": [
    {
     "name": "stdout",
     "output_type": "stream",
     "text": [
      "precision 0.09375\n",
      "recall 0.012987012987012988\n"
     ]
    }
   ],
   "source": [
    "# lets get the precision and recall numbers using confusion matrix itself\n",
    "CM=cm\n",
    "TN = CM[0][0]\n",
    "FN = CM[1][0]\n",
    "TP = CM[1][1]\n",
    "FP = CM[0][1]\n",
    "\n",
    "print(\"precision\",TP/(TP+FP))\n",
    "print(\"recall\", TP/(TP+FN))\n",
    "precisionList.append(TP/(TP+FP))\n",
    "recallList.append(TP/(TP+FN))"
   ]
  },
  {
   "cell_type": "markdown",
   "id": "201dcfed-b8b4-46a1-b51c-faba34011725",
   "metadata": {},
   "source": [
    "\n",
    "\n",
    "\n",
    "Interestingly we have high accuracy but such terrible precision recall when we use Adaboost! So we do need to do something better!"
   ]
  },
  {
   "cell_type": "markdown",
   "id": "5d7b46ee-cdf3-48f8-a951-3b22edf0d82a",
   "metadata": {
    "tags": []
   },
   "source": [
    "Lets look at another boosting algorithm"
   ]
  },
  {
   "cell_type": "markdown",
   "id": "df003012",
   "metadata": {
    "tags": []
   },
   "source": [
    "# Gradient Boosting\n",
    "\n",
    "Adaboost was the first boosting algorithm. Later, people tried to optimise this idea of boosting further and redefined boosting as a numerical optimisation problem and called it gradient boosting.\n",
    "\n",
    "The idea is to add weak learners such that we minimise a loss function using a gradient descent like procedure."
   ]
  },
  {
   "cell_type": "markdown",
   "id": "a2e59cca-a16b-48c7-84d3-8a5f4044fb19",
   "metadata": {},
   "source": [
    "Lets understand Gradient boosting step by step, we will understand this algorithm by taking a regression example, because regression version of this algorithm is easier to understand than classification.\n",
    "\n",
    "1. Lets say we are trying to predict a regression variable, lets call it y.\n",
    "2. Initially, we make a bad prediction of this variable as the mean of this column, also called $ \\bar{y} $, lets call our initial prediction as $ F_0 $\n",
    "3. We then look at the residuals of this, i.e the difference between the prediction and actuals, lets call this  $ r_1 $ where  $ r_1 = y- F_0 $\n",
    "4. Now we build our first weak model, we could use decision stumps as earlier, or we could use proper Decision trees with more depth as well. Prcatically in Gradient boosting, we use proper decision trees for the sake of this case study lets use simple stumps.\n",
    "5. So now we have a decision which is trying to predict the residuals or $ r_1 $ not the actual y, we try to predict $ r_1 $ and call our prediction $ \\gamma_{1} $. We do our actual prediction of y by adding the $ F_0 $ and  $ \\gamma_{1} $. So our first prediction becomes, $ F_1= F_0 +  \\gamma_{1} $ Actually we don't directly add the $ \\gamma_{1} $ we rather add a scaled version, scaled by something called learning rate or v. So final first model becomes $ F_1= F_0 + v  \\gamma_{1} $\n",
    "6. In the next step, we use $ F_1 $ instead of $ F_0$ and calculate the residuals between $ F_1 $ and y, so now we get $ r_2 = y- F_1 $ , now we create a new model which tries to predict the residuals $ r_2 $ and hence the new prediction $ \\gamma_{2} $. and we get the new model  $ F_2= F_1 + v  \\gamma_{2} $\n",
    "\n",
    "\n",
    "This process is repeated until model stops improving. "
   ]
  },
  {
   "cell_type": "markdown",
   "id": "86ead5cc-d38b-4bb3-a7b9-22529527ae9c",
   "metadata": {},
   "source": [
    "Mathematically, this is how Gradient boosting is defined"
   ]
  },
  {
   "cell_type": "markdown",
   "id": "2efec039-bc1c-4ca6-953c-007872ac1503",
   "metadata": {},
   "source": [
    "Input: training set $ {\\displaystyle \\{(x_{i},y_{i})\\}_{i=1}^{n},}{\\displaystyle \\{(x_{i},y_{i})\\}_{i=1}^{n},} $ a differentiable loss function $ {\\displaystyle L(y,F(x)),}{\\displaystyle L(y,F(x)),} $ number of iterations M.\n",
    "\n",
    "Algorithm:\n",
    "\n",
    "1. Initialize model with a constant value:\n",
    "$ {\\displaystyle F_{0}(x)={\\underset {\\gamma }{\\arg \\min }}\\sum _{i=1}^{n}L(y_{i},\\gamma ).} $\n",
    "2. For m = 1 to M:\n",
    " \n",
    " \n",
    " 2.1 Compute so-called pseudo-residuals:\n",
    "${\\displaystyle r_{im}=-\\left[{\\frac {\\partial L(y_{i},F(x_{i}))}{\\partial F(x_{i})}}\\right]_{F(x)=F_{m-1}(x)}\\quad {\\mbox{for }}i=1,\\ldots ,n.} $ \n",
    "\n",
    "2.2 Fit a base learner (or weak learner, e.g. tree) closed under scaling $ {\\displaystyle h_{m}(x)}{\\displaystyle h_{m}(x)} $ to pseudo-residuals, i.e. train it using the training set $ {\\displaystyle \\{(x_{i},r_{im})\\}_{i=1}^{n}}\\{(x_i, r_{im})\\}_{i=1}^n. $\n",
    "\n",
    "\n",
    "2.3 Compute multiplier $ {\\displaystyle \\gamma _{m}}\\gamma _{m} $ by solving the following one-dimensional optimization problem:\n",
    "$ {\\displaystyle \\gamma _{m}={\\underset {\\gamma }{\\operatorname {arg\\,min} }}\\sum _{i=1}^{n}L\\left(y_{i},F_{m-1}(x_{i})+\\gamma h_{m}(x_{i})\\right).} $\n",
    "\n",
    "\n",
    "Update the model:\n",
    "$ {\\displaystyle F_{m}(x)=F_{m-1}(x)+\\gamma _{m}h_{m}(x).} $\n",
    "\n",
    "\n",
    "Output $ {\\displaystyle F_{M}(x).} $"
   ]
  },
  {
   "cell_type": "markdown",
   "id": "6d87fc24-57ad-4549-8517-47f2cdfa4f31",
   "metadata": {},
   "source": [
    "## Implementing Gradient Boosting in Scikit learn"
   ]
  },
  {
   "cell_type": "code",
   "execution_count": 122,
   "id": "54751dcf-42f3-4790-99e3-155d1c3ecdb5",
   "metadata": {},
   "outputs": [],
   "source": [
    "#import Scikit learn's Gradient boosting classifier\n",
    "from sklearn.ensemble import GradientBoostingClassifier\n",
    "#create the classifier object\n",
    "clf = GradientBoostingClassifier(random_state=0).fit(X_train, y_train)"
   ]
  },
  {
   "cell_type": "code",
   "execution_count": 123,
   "id": "e363ee25-9a73-4e75-8d12-b4fa2b35e7bd",
   "metadata": {},
   "outputs": [],
   "source": [
    "#lets do the predictions\n",
    "preds = clf.predict(X_test)"
   ]
  },
  {
   "cell_type": "code",
   "execution_count": 124,
   "id": "d4531db5-d334-4107-acc7-8f7bf9d2cafa",
   "metadata": {
    "tags": []
   },
   "outputs": [
    {
     "name": "stdout",
     "output_type": "stream",
     "text": [
      "Accuracy: 0.94189364461738\n"
     ]
    }
   ],
   "source": [
    "from sklearn import metrics\n",
    "print(\"Accuracy:\",metrics.accuracy_score(y_test, preds))\n",
    "accuracyList.append(metrics.accuracy_score(y_test, preds))\n",
    "modelList.append(\"Gradient Boosting\")"
   ]
  },
  {
   "cell_type": "code",
   "execution_count": 125,
   "id": "eeb6453e-53ed-4d65-bee9-d43d53515e03",
   "metadata": {},
   "outputs": [],
   "source": [
    "#import the confusion matrix from scikit learn\n",
    "from sklearn.metrics import confusion_matrix\n",
    "#create the confusion matrix\n",
    "cm = confusion_matrix(y_test, preds, labels=clf.classes_)\n",
    "\n"
   ]
  },
  {
   "cell_type": "code",
   "execution_count": 126,
   "id": "213d54e2-2999-43b6-9ee4-24eb4e51230e",
   "metadata": {},
   "outputs": [],
   "source": [
    "#lets display the confusion matrix\n",
    "from sklearn.metrics import ConfusionMatrixDisplay\n",
    "disp = ConfusionMatrixDisplay(confusion_matrix=cm,\n",
    "                         display_labels=clf.classes_)"
   ]
  },
  {
   "cell_type": "code",
   "execution_count": 127,
   "id": "6bd7bf4a-63d2-4ffc-9918-1d3e3a450ba3",
   "metadata": {},
   "outputs": [
    {
     "data": {
      "image/png": "[encoded data removed]",
      "text/plain": [
       "<Figure size 640x480 with 2 Axes>"
      ]
     },
     "metadata": {},
     "output_type": "display_data"
    }
   ],
   "source": [
    "#show the plot\n",
    "disp.plot()\n",
    "plt.show()"
   ]
  },
  {
   "cell_type": "code",
   "execution_count": 128,
   "id": "2f776461",
   "metadata": {},
   "outputs": [
    {
     "name": "stdout",
     "output_type": "stream",
     "text": [
      "precision 0.8888888888888888\n",
      "recall 0.03463203463203463\n"
     ]
    }
   ],
   "source": [
    "# lets get the precision and recall numbers using confusion matrix itself\n",
    "CM=cm\n",
    "TN = CM[0][0]\n",
    "FN = CM[1][0]\n",
    "TP = CM[1][1]\n",
    "FP = CM[0][1]\n",
    "\n",
    "print(\"precision\",TP/(TP+FP))\n",
    "print(\"recall\", TP/(TP+FN))\n",
    "precisionList.append(TP/(TP+FP))\n",
    "recallList.append(TP/(TP+FN))"
   ]
  },
  {
   "cell_type": "markdown",
   "id": "a5274ba3",
   "metadata": {},
   "source": [
    "Our precision is 88% ! which is quite an improvement from the Adaboost. Recall is terrible though still at 3%"
   ]
  },
  {
   "cell_type": "markdown",
   "id": "98c126a5",
   "metadata": {},
   "source": [
    "We are doing  good just by using default values of Gradient boosting. We can further improve this by doing Hyperparameter tuning using GRID search or Random Search. \n",
    "We are skipping the code for that due to the already long length of this case study. "
   ]
  },
  {
   "cell_type": "markdown",
   "id": "71ede9c2-6fc0-4954-a51c-446c50432c7d",
   "metadata": {},
   "source": [
    "# XGBoost"
   ]
  },
  {
   "cell_type": "markdown",
   "id": "abd69c3d-6807-45c5-bf56-ed53f501acf6",
   "metadata": {},
   "source": [
    "One slight improvement over Gradient boosting that came in recently is the xgboost library. Both xgboost and gbm follows the principle of gradient boosting. There are however, the difference in modeling details. Specifically, xgboost used a more regularized model formalization to control over-fitting, which gives it better performance.\n",
    "\n",
    "The name xgboost, though, actually refers to the engineering goal to push the limit of computations resources for boosted tree algorithms. Which is the reason why many people use xgboost. For model, it might be more suitable to be called as regularized gradient boosting.\n",
    "\n",
    "\n",
    "_source https://datascience.stackexchange.com/questions/16904/gbm-vs-xgboost-key-differences_ "
   ]
  },
  {
   "cell_type": "markdown",
   "id": "83a0a1ed",
   "metadata": {},
   "source": [
    "Lets implement XGBoost!"
   ]
  },
  {
   "cell_type": "code",
   "execution_count": 129,
   "id": "434543a2",
   "metadata": {},
   "outputs": [],
   "source": [
    "# import xgboost\n",
    "import xgboost as xgb"
   ]
  },
  {
   "cell_type": "code",
   "execution_count": 130,
   "id": "7cdc9a88",
   "metadata": {},
   "outputs": [],
   "source": [
    "# create an XG Boost classifier\n",
    "xg_reg = xgb.XGBClassifier( n_estimators = 10)"
   ]
  },
  {
   "cell_type": "markdown",
   "id": "e397714c-1b45-4422-937a-43db548c0260",
   "metadata": {},
   "source": [
    "Lets look at some of the XG boost hyperparameters\n",
    "\n",
    "**booster [default= gbtree ]**\n",
    "Which booster to use. Can be gbtree, gblinear or dart; gbtree and dart use tree based models while gblinear uses linear functions.\n",
    "\n",
    "**verbosity [default=1]**\n",
    "Verbosity of printing messages. Valid values are 0 (silent), 1 (warning), 2 (info), 3 (debug). Sometimes XGBoost tries to change configurations based on heuristics, which is displayed as warning message. If there’s unexpected behaviour, please try to increase value of verbosity.\n",
    "\n",
    "**validate_parameters [default to false, except for Python, R and CLI interface]**\n",
    "When set to True, XGBoost will perform validation of input parameters to check whether a parameter is used or not.\n",
    "\n",
    "**nthread [default to maximum number of threads available if not set]**\n",
    "Number of parallel threads used to run XGBoost. When choosing it, please keep thread contention and hyperthreading in mind.\n",
    "\n",
    "**disable_default_eval_metric [default= false]**\n",
    "Flag to disable default metric. Set to 1 or true to disable.\n",
    "\n",
    "**num_feature [set automatically by XGBoost, no need to be set by user]**\n",
    "Feature dimension used in boosting, set to maximum dimension of the feature\n",
    "\n",
    "\n",
    "\n",
    "**eta [default=0.3, alias: learning_rate]**\n",
    "\n",
    "Step size shrinkage used in update to prevents overfitting. After each boosting step, we can directly get the weights of new features, and eta shrinks the feature weights to make the boosting process more conservative.\n",
    "range: [0,1]\n",
    "\n",
    "**gamma [default=0, alias: min_split_loss]**\n",
    "\n",
    "Minimum loss reduction required to make a further partition on a leaf node of the tree. The larger gamma is, the more conservative the algorithm will be.\n",
    "range: [0,∞]\n",
    "\n",
    "**max_depth [default=6]**\n",
    "\n",
    "Maximum depth of a tree. Increasing this value will make the model more complex and more likely to overfit. 0 indicates no limit on depth. Beware that XGBoost aggressively consumes memory when training a deep tree. exact tree method requires non-zero value.\n",
    "range: [0,∞]\n",
    "\n",
    "For the complete list, please visit this page:\n",
    "https://xgboost.readthedocs.io/en/stable/parameter.html\n"
   ]
  },
  {
   "cell_type": "code",
   "execution_count": 131,
   "id": "0e1c3490-c2e3-4db2-a82b-efa6384581ee",
   "metadata": {},
   "outputs": [],
   "source": [
    "# Fit and predict from the model\n",
    "xg_reg.fit(X_train,y_train)\n",
    "\n",
    "preds = xg_reg.predict(X_test)"
   ]
  },
  {
   "cell_type": "code",
   "execution_count": 132,
   "id": "b4eceb86-64ca-447c-91a1-ae9fd8d959ce",
   "metadata": {},
   "outputs": [
    {
     "name": "stdout",
     "output_type": "stream",
     "text": [
      "Accuracy: 0.9421530479896238\n"
     ]
    }
   ],
   "source": [
    "# print the accuracy\n",
    "print(\"Accuracy:\",metrics.accuracy_score(y_test, preds))\n",
    "accuracyList.append(metrics.accuracy_score(y_test, preds))\n",
    "modelList.append(\"XGBoost\")"
   ]
  },
  {
   "cell_type": "code",
   "execution_count": 133,
   "id": "a4eebfcf-abdc-4549-a2f9-c9b45921ee49",
   "metadata": {},
   "outputs": [],
   "source": [
    "# create the confusion matrix\n",
    "cm = confusion_matrix(y_test, preds, labels=clf.classes_)"
   ]
  },
  {
   "cell_type": "code",
   "execution_count": 134,
   "id": "7b06499d-0f1b-4967-8dc9-9b628a3be3fd",
   "metadata": {},
   "outputs": [
    {
     "name": "stdout",
     "output_type": "stream",
     "text": [
      "precision 1.0\n",
      "recall 0.03463203463203463\n"
     ]
    }
   ],
   "source": [
    "# lets get the precision and recall numbers using confusion matrix itself\n",
    "\n",
    "CM=cm\n",
    "TN = CM[0][0]\n",
    "FN = CM[1][0]\n",
    "TP = CM[1][1]\n",
    "FP = CM[0][1]\n",
    "\n",
    "print(\"precision\",TP/(TP+FP))\n",
    "print(\"recall\", TP/(TP+FN))\n",
    "precisionList.append(TP/(TP+FP))\n",
    "recallList.append(TP/(TP+FN))"
   ]
  },
  {
   "cell_type": "code",
   "execution_count": 135,
   "id": "5e4fb204-5c6f-48f8-8de2-f1759ea1922a",
   "metadata": {},
   "outputs": [],
   "source": [
    "#lets display the confusion matrix\n",
    "from sklearn.metrics import ConfusionMatrixDisplay\n",
    "disp = ConfusionMatrixDisplay(confusion_matrix=cm,\n",
    "                         display_labels=clf.classes_)\n"
   ]
  },
  {
   "cell_type": "code",
   "execution_count": 136,
   "id": "58bbad5d-18e2-4b84-9822-0e39aa61abf7",
   "metadata": {},
   "outputs": [
    {
     "data": {
      "text/plain": [
       "<sklearn.metrics._plot.confusion_matrix.ConfusionMatrixDisplay at 0x11eaf4390>"
      ]
     },
     "execution_count": 136,
     "metadata": {},
     "output_type": "execute_result"
    },
    {
     "data": {
      "image/png": "[encoded data removed]",
      "text/plain": [
       "<Figure size 640x480 with 2 Axes>"
      ]
     },
     "metadata": {},
     "output_type": "display_data"
    }
   ],
   "source": [
    "disp.plot()"
   ]
  },
  {
   "cell_type": "markdown",
   "id": "d6b32489-65ae-4ef5-8dcb-376c2a8c641e",
   "metadata": {},
   "source": [
    "Interestingly we have acheieved  100 training precision using XG Boost!"
   ]
  },
  {
   "cell_type": "markdown",
   "id": "c01e1b6b-813e-4677-a78a-504c1dedecdb",
   "metadata": {
    "tags": []
   },
   "source": [
    "## Summarising it all"
   ]
  },
  {
   "cell_type": "code",
   "execution_count": 139,
   "id": "3c5d5c46-1b5a-45e6-a9d2-7a010f83bc36",
   "metadata": {},
   "outputs": [
    {
     "data": {
      "text/html": [
       "<div>\n",
       "<style scoped>\n",
       "    .dataframe tbody tr th:only-of-type {\n",
       "        vertical-align: middle;\n",
       "    }\n",
       "\n",
       "    .dataframe tbody tr th {\n",
       "        vertical-align: top;\n",
       "    }\n",
       "\n",
       "    .dataframe thead th {\n",
       "        text-align: right;\n",
       "    }\n",
       "</style>\n",
       "<table border=\"1\" class=\"dataframe\">\n",
       "  <thead>\n",
       "    <tr style=\"text-align: right;\">\n",
       "      <th></th>\n",
       "      <th>Model</th>\n",
       "      <th>Accuracy</th>\n",
       "      <th>Precision</th>\n",
       "      <th>Recall</th>\n",
       "    </tr>\n",
       "  </thead>\n",
       "  <tbody>\n",
       "    <tr>\n",
       "      <th>0</th>\n",
       "      <td>AdaBoost</td>\n",
       "      <td>0.933333</td>\n",
       "      <td>0.09375</td>\n",
       "      <td>0.012987</td>\n",
       "    </tr>\n",
       "    <tr>\n",
       "      <th>1</th>\n",
       "      <td>Gradient Boosting</td>\n",
       "      <td>0.941894</td>\n",
       "      <td>0.888889</td>\n",
       "      <td>0.034632</td>\n",
       "    </tr>\n",
       "    <tr>\n",
       "      <th>2</th>\n",
       "      <td>XGBoost</td>\n",
       "      <td>0.942153</td>\n",
       "      <td>1.0</td>\n",
       "      <td>0.034632</td>\n",
       "    </tr>\n",
       "  </tbody>\n",
       "</table>\n",
       "</div>"
      ],
      "text/plain": [
       "               Model  Accuracy Precision    Recall\n",
       "0           AdaBoost  0.933333   0.09375  0.012987\n",
       "1  Gradient Boosting  0.941894  0.888889  0.034632\n",
       "2            XGBoost  0.942153       1.0  0.034632"
      ]
     },
     "execution_count": 139,
     "metadata": {},
     "output_type": "execute_result"
    }
   ],
   "source": [
    "# We create a final list to collate all the results so far\n",
    "finalList= [modelList, accuracyList, precisionList, recallList]\n",
    "# final dataframe to see all the results.\n",
    "pd.DataFrame(finalList, index=['Model', 'Accuracy', 'Precision', 'Recall']).T"
   ]
  },
  {
   "cell_type": "markdown",
   "id": "cf3e8264-45ce-406f-a184-9e2bc72f20c7",
   "metadata": {
    "tags": []
   },
   "source": [
    "As you can see, all the models have pros and cons, Adaboost is the worst overall. Gradient boosting and XG Boost are giving similar accuracy and Recall but different precision."
   ]
  },
  {
   "cell_type": "markdown",
   "id": "e0add1e7-e191-4a16-bb74-b07aa3b436a3",
   "metadata": {},
   "source": [
    "Also please understand this is plain xgboost with default parameters, if we run grid search and obtain correct parameters, there will be much better results than this"
   ]
  }
 ],
 "metadata": {
  "kernelspec": {
   "display_name": "Python 3 (ipykernel)",
   "language": "python",
   "name": "python3"
  },
  "language_info": {
   "codemirror_mode": {
    "name": "ipython",
    "version": 3
   },
   "file_extension": ".py",
   "mimetype": "text/x-python",
   "name": "python",
   "nbconvert_exporter": "python",
   "pygments_lexer": "ipython3",
   "version": "3.9.12"
  },
  "toc": {
   "base_numbering": 1,
   "nav_menu": {},
   "number_sections": true,
   "sideBar": true,
   "skip_h1_title": false,
   "title_cell": "Table of Contents",
   "title_sidebar": "Contents",
   "toc_cell": true,
   "toc_position": {
    "height": "calc(100% - 180px)",
    "left": "10px",
    "top": "150px",
    "width": "256px"
   },
   "toc_section_display": true,
   "toc_window_display": true
  },
  "toc-autonumbering": true
 },
 "nbformat": 4,
 "nbformat_minor": 5
}
